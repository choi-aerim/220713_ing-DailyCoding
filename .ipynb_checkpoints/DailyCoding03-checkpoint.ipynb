{
 "cells": [
  {
   "cell_type": "markdown",
   "id": "d0ee88f2",
   "metadata": {},
   "source": [
    "<b>2022/09/10</b>\n",
    "\n",
    "##  <b>2841 : Minimum Sum (Tiny)</b>\n",
    "\n",
    "Q1.\n",
    "n*n개의 수가 주어진다. (1<=n<=10)\n",
    "이때 <b>겹치지 않는 각 열과 각 행에서 수를 하나씩 뽑는다</b>. (즉, 총 n개의 수를 뽑을 것이다, 그리고 각 수는 100이하의 값이다.)\n",
    "이 n개의 수의 합이 최소가 되게하여라.\n",
    "\n",
    "- 입력: 첫 줄에 n이 입력된다. 다음 줄 부터 n+1줄 까지 n개씩의 정수가 입력된다.\n",
    "- 출력: 구한 최소 합을 출력한다\n",
    "\n",
    "예시)\n",
    "```\n",
    "입력:\n",
    "3\n",
    "1 2 5\n",
    "2 4 3\n",
    "5 4 3\n",
    "\n",
    "출력:\n",
    "7\n",
    "```\n"
   ]
  },
  {
   "cell_type": "markdown",
   "id": "10d2c638",
   "metadata": {},
   "source": [
    "애림정리)\n",
    "\n",
    "입력-> 행열 수, 배열요소\n",
    "\n",
    "로직->\n",
    "(행, 열) 모든 조합 만들기 \n",
    "[(1,1),(2,2),(3,3)], [(1,1),(2,3),(3,2)], \n",
    "[(1,2),(2,1),(3,3)], [(1,2),(2,3),(3,1)], \n",
    "[(1,3),(2,1),(3,2)], [(1,3),(2,2),(3,1)]\n",
    "\n",
    "열 = np.aragne(n) -> 모든 조합 만들어주기위해 열.remove 활용"
   ]
  },
  {
   "cell_type": "code",
   "execution_count": 28,
   "id": "396238ae",
   "metadata": {},
   "outputs": [
    {
     "name": "stdout",
     "output_type": "stream",
     "text": [
      ">> 행, 열의 수를 입력(1이상 10이하의 수)\n",
      "3\n",
      ">> 행, 열 요소를 입력(100 이하의 수)\n",
      "1 2 5 2 4 3 5 4 3\n"
     ]
    }
   ],
   "source": [
    "from itertools import combinations\n",
    "from itertools import product\n",
    "import numpy as np\n",
    "\n",
    "n = int(input('>> 행, 열의 수를 입력(1이상 10이하의 수)\\n'))\n",
    "arr = np.array(list(map(int, input('>> 행, 열 요소를 입력(100 이하의 수)\\n').split()))).reshape(n,-1)\n",
    "\n",
    "#1 2 5 2 4 3 5 4 3"
   ]
  },
  {
   "cell_type": "code",
   "execution_count": 47,
   "id": "5c6301ca",
   "metadata": {},
   "outputs": [
    {
     "name": "stdout",
     "output_type": "stream",
     "text": [
      "[0 0]\n",
      "[0 1]\n",
      "[0 2]\n",
      "[1 0]\n",
      "[1 1]\n",
      "[1 2]\n",
      "[2 0]\n",
      "[2 1]\n",
      "[2 2]\n"
     ]
    }
   ],
   "source": [
    "comb = np.array(list(product(list(range(n)), repeat = 2))).reshape(n,n,2)\n",
    "for c in comb:\n",
    "    for rc in c:\n",
    "        r = rc[0]\n",
    "        c = rc[1]"
   ]
  },
  {
   "cell_type": "code",
   "execution_count": 44,
   "id": "53e7f463",
   "metadata": {},
   "outputs": [
    {
     "data": {
      "text/plain": [
       "array([[[1, 1],\n",
       "        [1, 2],\n",
       "        [1, 3]],\n",
       "\n",
       "       [[2, 1],\n",
       "        [2, 2],\n",
       "        [2, 3]],\n",
       "\n",
       "       [[3, 1],\n",
       "        [3, 2],\n",
       "        [3, 3]]])"
      ]
     },
     "execution_count": 44,
     "metadata": {},
     "output_type": "execute_result"
    }
   ],
   "source": [
    "np.array(list(product([1,2,3], repeat = 2))).reshape(3,3,2)"
   ]
  },
  {
   "cell_type": "markdown",
   "id": "b7c655a4",
   "metadata": {},
   "source": [
    "<b>2022/09/11</b>\n",
    "\n",
    "## <b>2832 : [상태 정의를 통한 탐색] 계단 오르기 1-1</b>\n",
    "\n",
    "Q2.\n",
    "OO이가 계단을 올라가려고 한다.\n",
    "\n",
    "계단은 모두 n칸으로 구성되어 있다.\n",
    "\n",
    "OO이는 한 번에 1칸, 2칸을 오를 수 있다.\n",
    "\n",
    "OO이가 k번의 이동 이하를 이동하여 0번째 칸에서 출발하여 n번째 칸으로 올라가는 서로 다른 방법의 수를 구하는 프로그램을 작성하시오.\n",
    "\n",
    "만약 n = 3, k = 3 이면\n",
    "\n",
    "- 1 2 : 0번째, 1번째, 3번째 계단을 이용하여 목표에 도달\n",
    "- 2 1 : 0번째, 2번째, 3번째 계단을 이용하여 목표에 도달\n",
    "\n",
    "로 모두 2가지 경우가 있다."
   ]
  },
  {
   "cell_type": "markdown",
   "id": "0dc3f5fd",
   "metadata": {},
   "source": [
    "<b><애림 note></b>\n",
    "1. 모든 중복가능한 조합을 구하기\n",
    "2. 합이 k가 되는 경우의 수만 출력\n",
    "3. 총 경우의수 출력"
   ]
  },
  {
   "cell_type": "code",
   "execution_count": 86,
   "id": "44086117",
   "metadata": {},
   "outputs": [
    {
     "name": "stdout",
     "output_type": "stream",
     "text": [
      ">> 도착지점 칸을 입력하세요.\n",
      "3\n",
      ">> 이동 횟수를 입력하세요.\n",
      "3\n",
      "[1, 2]\n",
      "[2, 1]\n"
     ]
    },
    {
     "data": {
      "text/plain": [
       "'0번째 칸에서 3번째 칸까지 이동할 수 있는 경우의 수는 총 2가지입니다.'"
      ]
     },
     "execution_count": 86,
     "metadata": {},
     "output_type": "execute_result"
    }
   ],
   "source": [
    "from itertools import product\n",
    "\n",
    "n = int(input('>> 도착지점 칸을 입력하세요.\\n'))\n",
    "k = int(input('>> 이동 횟수를 입력하세요.\\n'))\n",
    "\n",
    "\n",
    "def move_stairs(n,k):\n",
    "    d1, d2 = 1, 2\n",
    "    move = []\n",
    "    for i in range(1, k):\n",
    "        for p in list(product([d1, d2], repeat = i)):\n",
    "            move.append(list(p))\n",
    "\n",
    "    cnt = 0\n",
    "    for m in move:\n",
    "        if sum(m) == n:\n",
    "            cnt += 1\n",
    "            print(m)\n",
    "    \n",
    "    return f'0번째 칸에서 {n}번째 칸까지 이동할 수 있는 경우의 수는 총 {cnt}가지입니다.'\n",
    "\n",
    "\n",
    "move_stairs(n, k)"
   ]
  },
  {
   "cell_type": "markdown",
   "id": "28799f73",
   "metadata": {},
   "source": [
    "<b>2022/09/11</b>\n",
    "\n",
    "## <b>2826 : 자연수 분할 (S)</b>\n",
    "\n",
    "Q3.\n",
    "자연수 n을 입력받아서 n이하의 자연수 합으로 분할할 수 있는 서로 다른 경우의 수를 구하는 프로그램을 작성하시오.\n",
    "\n",
    "n이 5인 경우의 서로 다른 분할 방법은 다음과 같다.\n",
    "```\n",
    "5\n",
    "4 1\n",
    "3 2\n",
    "3 1 1\n",
    "2 2 1\n",
    "2 1 1 1\n",
    "1 1 1 1 1\n",
    "```\n",
    "따라서 모두 7가지이다.\n",
    "\n",
    "<b>input></b>\n",
    "첫 번째 줄에 자연수 n이 주어진다.\n",
    "\n",
    "[입력값의 정의역]\n",
    "\n",
    "1 <= n <= 20\n",
    "\n",
    "<b>output></b>\n",
    "n의 자연수 분할 방법의 개수를 출력한다."
   ]
  },
  {
   "cell_type": "code",
   "execution_count": 110,
   "id": "1c218cc7",
   "metadata": {},
   "outputs": [
    {
     "data": {
      "text/plain": [
       "(7, [[5], [1, 4], [2, 3], [1, 1, 3], [1, 2, 2], [1, 1, 1, 2], [1, 1, 1, 1, 1]])"
      ]
     },
     "execution_count": 110,
     "metadata": {},
     "output_type": "execute_result"
    }
   ],
   "source": [
    "from itertools import product\n",
    "\n",
    "def n_cases(n):\n",
    "    cases = []\n",
    "    cnt = 0\n",
    "    for i in range(1, n+1):\n",
    "        prod = list(product(list(range(1,n+1)), repeat = i))    \n",
    "        \n",
    "        for p in prod:\n",
    "            s = sorted(list(p))\n",
    "            if sum(s) == n and s not in cases:\n",
    "                cases.append(s)\n",
    "                cnt += 1\n",
    "                \n",
    "    return cnt, cases\n",
    "\n",
    "n_cases(5)"
   ]
  },
  {
   "cell_type": "markdown",
   "id": "56182cd8",
   "metadata": {},
   "source": [
    "<b>2022/09/12</b>\n",
    "\n",
    "## <b>2834 : [상태 정의를 통한 탐색] 계단 오르기 3-1</b>\n",
    "\n",
    "OO이와 XX가 계단을 올라가려고 한다.\n",
    "\n",
    "계단은 모두 n칸으로 구성되어 있다.\n",
    "\n",
    "OO이와 XX는 한 번에 1칸, 2칸을 오를 수 있다.\n",
    "\n",
    "OO이와 xx가 각각 k개 이하의 칸을 이용하면서 0번째 칸에서 출발하여 동시에 n번째 칸으로 올라가는 서로 다른 방법의 수를 구하는 프로그램을 작성하시오.\n",
    "\n",
    "만약 n = 3, k = 3이면\n",
    "\n",
    "- (1, 1), (3, 3) : OO이와 XX는 0번째, 1번째, 3번째 계단을 이용하여 목표에 도달\n",
    "- (1, 2), (3, 3) : OO이는 0번째, 1번째, 3번째 계단을 이용하여 목표에 도달, XX는 0번째, 2번째, 3번째 계단을 이용하여 목표에 도달\n",
    "- (2, 1), (3, 3) : OO이는 0번째, 2번째, 3번째 계단을 이용하여 목표에 도달, XX는 0번째, 1번째, 3번째 계단을 이용하여 목표에 도달\n",
    "- (2, 2), (3, 3) : OO이와 XX는 0번째, 2번째, 3번째 계단을 이용하여 목표에 도달\n",
    "\n",
    "로 모두 4가지 경우가 있다.\n",
    "\n",
    "<b>input></b>\n",
    "첫 번째 줄에 n과 k가 공백을 기준으로 입력된다.\n",
    "\n",
    "[입력값의 정의역]\n",
    "[1 ≤ n ≤ 30]\n",
    "[1 ≤ k ≤ 15]\n",
    "\n",
    "\n",
    "<b>output></b>\n",
    "\n",
    "계단을 올라가는 서로 다른 경로의 수를 출력한다."
   ]
  },
  {
   "cell_type": "code",
   "execution_count": null,
   "id": "e4a5e134",
   "metadata": {},
   "outputs": [],
   "source": [
    "from itertools import product\n",
    "\n",
    "n, k = list(map(int, input(\">> 올라가야하는 계단 수, 최대 이동 횟수를 입력하세요.\\n\")))\n",
    "\n",
    "list(product([1,2], repeat = k-1))"
   ]
  },
  {
   "cell_type": "code",
   "execution_count": 8,
   "id": "c8217af4",
   "metadata": {},
   "outputs": [
    {
     "data": {
      "text/plain": [
       "[array([1, 2, 3, 5]),\n",
       " array([1, 2, 4, 5]),\n",
       " array([1, 3, 4, 5]),\n",
       " array([2, 3, 4, 5])]"
      ]
     },
     "execution_count": 8,
     "metadata": {},
     "output_type": "execute_result"
    }
   ],
   "source": [
    "from itertools import product\n",
    "import numpy as np\n",
    "\n",
    "prod = list(product([1,2], repeat = 5-1))\n",
    "prod_n = []\n",
    "\n",
    "for p in prod:\n",
    "    p = np.array(p).cumsum()\n",
    "    if p[3] == 5:\n",
    "        prod_n.append(p)\n",
    "\n"
   ]
  },
  {
   "cell_type": "markdown",
   "id": "bbd13a79",
   "metadata": {},
   "source": [
    "<b>2022/09/18</b>\n",
    "\n",
    "## 10글자씩 끊어서 출력하기\n",
    "알파벳 소문자와 대문자로만 이루어진 길이가 N인 단어가 주어진다.\n",
    "\n",
    "한 줄에 10글자씩 끊어서 출력하는 프로그램을 작성하시오.\n",
    "\n",
    "<b>입력</b>\n",
    "\n",
    "첫째 줄에 단어가 주어진다. 단어는 알파벳 소문자와 대문자로만 이루어져 있으며, 길이는 100을 넘지 않는다. 길이가 0인 단어는 주어지지 않는다.\n",
    "\n",
    "\n",
    "<b>출력</b>\n",
    "\n",
    "입력으로 주어진 단어를 열 개씩 끊어서 한 줄에 하나씩 출력한다. 단어의 길이가 10의 배수가 아닌 경우에는 마지막 줄에는 10개 미만의 글자만 출력할 수도 있다."
   ]
  },
  {
   "cell_type": "code",
   "execution_count": null,
   "id": "68bee376",
   "metadata": {},
   "outputs": [],
   "source": [
    "word = input(\">> 단어를 입력해주세요.\")\n",
    "\n",
    "n = len(word)\n",
    "for i in range(n // 10 + 1):\n",
    "    print(word[i*10:(i+1)*10])"
   ]
  },
  {
   "cell_type": "markdown",
   "id": "a005aa7d",
   "metadata": {},
   "source": [
    "<b>2022/09/29</b>\n",
    "\n",
    "## 2321 : 자녀의 혈액형0\n",
    "\n",
    "ABO 혈액형 분류식을 기준으로, 부모의 혈액형 인자 정보를 알고 있을 때 나올 수 있는 자녀의 혈액형을 판단하는 기준은 다음과 같다.<br>\n",
    "<img src = \"https://www.codeup.kr/upload/pimg6119_1.png\" style = \"width: 500px\"><br>\n",
    "부모의 혈액형 인자가 AB와 OO일 때, 나올 수 있는 자녀의 혈액형을 출력해보자.<br>\n",
    "*본 문제는 주어진 문제에 대한 답을 출력하는 문제로서 출력 예시가 없다. 문제에 대한 답을 출력하면 된다."
   ]
  },
  {
   "cell_type": "code",
   "execution_count": 32,
   "id": "dbd115e3",
   "metadata": {
    "scrolled": true
   },
   "outputs": [
    {
     "name": "stdout",
     "output_type": "stream",
     "text": [
      ">> 부모의 혈액형을 입력하세요.\n",
      " ex)AB OO\n",
      "AB BB\n"
     ]
    }
   ],
   "source": [
    "bloodtype = input('>> 부모의 혈액형을 입력하세요.\\n ex)AB OO\\n')"
   ]
  },
  {
   "cell_type": "code",
   "execution_count": 41,
   "id": "b533da00",
   "metadata": {},
   "outputs": [
    {
     "data": {
      "text/plain": [
       "['B형(BB)', 'AB형(AB)']"
      ]
     },
     "execution_count": 41,
     "metadata": {},
     "output_type": "execute_result"
    }
   ],
   "source": [
    "from itertools import product\n",
    "\n",
    "bloods = bloodtype.split()\n",
    "\n",
    "parents_bloods = []\n",
    "for bl in bloods:\n",
    "    parents_blood = []\n",
    "    for b in bl:\n",
    "        parents_blood.append(b)\n",
    "    parents_bloods.append(parents_blood)\n",
    "\n",
    "all_prob = list(set(product(*parents_bloods)))\n",
    "\n",
    "types = []\n",
    "for prob in all_prob:\n",
    "    p_type = ''.join(prob)\n",
    "    \n",
    "    if p_type == 'AB':\n",
    "        types.append(f\"AB형({p_type})\")\n",
    "        \n",
    "    elif p_type == 'AO' or p_type == 'AA':\n",
    "        types.append(f\"A형({p_type})\")\n",
    "        \n",
    "    elif p_type == 'BO' or p_type == 'BB':\n",
    "        types.append(f\"B형({p_type})\")\n",
    "        \n",
    "    else:\n",
    "        types.append(f\"O형({p_type})\")      \n",
    "types"
   ]
  },
  {
   "cell_type": "markdown",
   "id": "f4eef261",
   "metadata": {},
   "source": [
    "<b>2022/12/08</b>\n",
    "\n",
    "## 2821 : 가장 긴 막대기의 길이는?\n",
    "\n",
    "세종이는 길이가 n이고 각 부분이 흰색 또는 검은색으로 칠해진 나무 막대가 있다. \n",
    "각 부분의 길이는 최소 1이고 각 색깔의 길이는 1의 배수이다.\n",
    "이 나무 막대를 원하는 부분을 잘라 하나의 막대기를 만들려고 한다.\n",
    "잘린 조각을 연결하여 막대를 만들 수는 없다.\n",
    "같은 색깔로 만들 수 있는 가장 긴 막대의 길이를 구하는 프로그램을 작성하시오.\n",
    "\n",
    "<b>입력</b><br>\n",
    "첫 번째 줄에는 나무의 길이 n이 주어진다.\n",
    "두 번째 줄에는 각 부분의 색깔을 나타내는 길이가 n인 문자열 s가 주어진다.\n",
    "\n",
    "[입력값의 정의역]\n",
    "\n",
    "1 <= n <= 1,000\n",
    "s_i = { 1, 0 } (1=검은색, 0=흰색)\n",
    "\n",
    "<br><b>출력</b><br>\n",
    "한 가지 색으로 만들 수 있는 가장 긴 막대의 길이를 출력한다.\n",
    "<br>\n",
    "<br>\n",
    "<br>\n",
    "아래 그림과 같이 검은색으로 부분 5, 6, 7로 하나의 막대롤 만들면 길이가 3인 막대를 만들 수 있고 이보다 더 긴 막대를 만들 수 있는 방법은 없다.<br>\n",
    "<b>입력 예시</b><br>\n",
    "10<br>\n",
    "0100111010<br><br>\n",
    "<b>출력예시</b>\n",
    "3<br>\n",
    "<img src = 'https://codeup.kr/upload/20220608223723_stick01.png'>"
   ]
  },
  {
   "cell_type": "code",
   "execution_count": 24,
   "id": "18ca17aa",
   "metadata": {},
   "outputs": [
    {
     "name": "stdout",
     "output_type": "stream",
     "text": [
      ">>나무막대기의 총 길이를 입력하세요.\n",
      "15\n",
      ">>나무막대기의 색을 입력하세요.\n",
      "  흰색: 0, 검정색: 1\n",
      "000000001111111\n"
     ]
    }
   ],
   "source": [
    "# 입력조건 설정\n",
    "\n",
    "while True:\n",
    "    width = int(input('>>나무막대기의 총 길이를 입력하세요.\\n'))\n",
    "    if 1 <= width <= 1000:\n",
    "        break\n",
    "    else:\n",
    "        print('다시 입력해주세요.')\n",
    "        \n",
    "while True:\n",
    "    colors = [int(i) for i in input('>>나무막대기의 색을 입력하세요.\\n  흰색: 0, 검정색: 1\\n')]\n",
    "    if len(colors) == width and set(colors) == {0, 1}:\n",
    "        break\n",
    "    else:\n",
    "        print('다시 입력해주세요.')"
   ]
  },
  {
   "cell_type": "code",
   "execution_count": 26,
   "id": "b2b26be4",
   "metadata": {},
   "outputs": [],
   "source": [
    "cnt, cnt_max = (0, 0)\n",
    "me = colors[0]\n",
    "\n",
    "for i in colors:\n",
    "    if me == i:\n",
    "        cnt += 1\n",
    "        cnt_max = max(cnt, cnt_max)\n",
    "    else:\n",
    "        me = i\n",
    "        cnt = 1     "
   ]
  },
  {
   "cell_type": "markdown",
   "id": "0af6a8c0",
   "metadata": {},
   "source": [
    "<b>2022/12/08</b>\n",
    "\n",
    "## 2827 : 담벼락 이동하기\n",
    "\n",
    "송죽마을에는 벽돌로 이루어진 커다란 담벼락이 있다.\n",
    "담벼락의 크기는 가로축에 놓인 벽돌의 최대 개수 W, 세로축에 놓인 벽돌 개수 H개로 아래와 같은 모양으로 되어 있다.\n",
    "(담벼락의 가장 아랫줄의 벽돌 개수가 W개이다.)\n",
    "W(6) H(7) 모양의 담벼락<br>\n",
    "\n",
    "<img src = 'https://codeup.kr/upload/20220607224855_2887_1.png'><br>\n",
    "\n",
    "경곽이는 담벼락의 임의의 시작지점 S(s1, s2)에서 목표지점 G(g1, g2)로 이동할 수 있는 방법의 수를 알고 싶다.\n",
    "경곽이는 아래와 같은 방법으로 다른 벽돌로 이동할 수 있으며, 벽돌이 없는 곳으로는 이동할 수 없다.<br>\n",
    "\n",
    "<img src = 'https://codeup.kr/upload/20220607224914_2887_2.png'><br>\n",
    "\n",
    "(담벼락 임의의 벽돌위치에서 인접한 벽돌로 이동할 때는 인접한 오른쪽, 왼쪽 상단, 오른쪽 상단 세가지 방향으로만 이동할 수 있다.)\n",
    "시작지점 S에서 목표지점 G로 이동하는 서로 다른 방법의 개수를 출력하는 프로그램을 작성하시오.<br>\n",
    "\n",
    "<b>입력</b><br>\n",
    "첫줄에는 담벼락의 크기 1<=W, H<=10가 공백을 기준으로 주어진다.\n",
    "두 번째 줄에는 시작지점 좌표 s1, s2와 목표지점 좌표 g1, g2가 공백을 기준으로 주어진다.\n",
    "<br><br>\n",
    "<b>출력</b><br>\n",
    "시작지점 S에서 목표지점 G로 이동하는 서로 다른 방법의 개수를 출력한다.\n",
    "<br><br>\n",
    "<b>입력 예시</b>   <br>\n",
    "6 7<br>\n",
    "2 3 6 7<br>\n",
    "\n",
    "<b>출력 예시</b><br>\n",
    "878"
   ]
  },
  {
   "cell_type": "code",
   "execution_count": 31,
   "id": "e53c7b49",
   "metadata": {},
   "outputs": [
    {
     "name": "stdout",
     "output_type": "stream",
     "text": [
      ">> 벽돌의 너비를 입력하시오.1\n",
      ">> 벽돌의 높이를 입력하시오.10\n"
     ]
    }
   ],
   "source": [
    "while True:\n",
    "    width = int(input('>> 벽돌의 너비를 입력하시오.'))\n",
    "    if 1 <= width <= 10:\n",
    "        break\n",
    "    else:\n",
    "        continue\n",
    "\n",
    "while True:\n",
    "    height = int(input('>> 벽돌의 높이를 입력하시오.'))\n",
    "    if 1 <= height <= 10:\n",
    "        break\n",
    "    else:\n",
    "        continue"
   ]
  },
  {
   "cell_type": "markdown",
   "id": "d7a5acf2",
   "metadata": {},
   "source": [
    "<b>2023/01/03</b>\n",
    "\n",
    "level = 0\n",
    "## <프로그래머스>중복된 숫자 개수\n",
    "\n",
    "정수가 담긴 배열 array와 정수 n이 매개변수로 주어질 때, array에 n이 몇 개 있는 지를 return 하도록 solution 함수를 완성해보세요."
   ]
  },
  {
   "cell_type": "code",
   "execution_count": 28,
   "id": "7056c988",
   "metadata": {},
   "outputs": [
    {
     "data": {
      "text/plain": [
       "3"
      ]
     },
     "execution_count": 28,
     "metadata": {},
     "output_type": "execute_result"
    }
   ],
   "source": [
    "def solution(array, n):\n",
    "    return array.count(n)\n",
    "\n",
    "solution([1,2,3,4,5,5,5],5)"
   ]
  },
  {
   "cell_type": "markdown",
   "id": "5c74260d",
   "metadata": {},
   "source": [
    "<b>2023/01/03</b>\n",
    "\n",
    "level = 0\n",
    "## <프로그래머스>몫 구하기\n",
    "정수 num1, num2가 매개변수로 주어질 때, num1을 num2로 나눈 몫을 return 하도록 solution 함수를 완성해주세요."
   ]
  },
  {
   "cell_type": "code",
   "execution_count": 29,
   "id": "70e2526b",
   "metadata": {},
   "outputs": [
    {
     "data": {
      "text/plain": [
       "2"
      ]
     },
     "execution_count": 29,
     "metadata": {},
     "output_type": "execute_result"
    }
   ],
   "source": [
    "def solution(num1, num2):\n",
    "    return num1 // num2\n",
    "\n",
    "solution(10,5)"
   ]
  },
  {
   "cell_type": "markdown",
   "id": "da6f4ad3",
   "metadata": {},
   "source": [
    "<b>2023/01/03</b>\n",
    "\n",
    "## <프로그래머스>다음에 올 숫자\n",
    "\n",
    "등차수열 혹은 등비수열 common이 매개변수로 주어질 때, 마지막 원소 다음으로 올 숫자를 return 하도록 solution 함수를 완성해보세요."
   ]
  },
  {
   "cell_type": "code",
   "execution_count": 3,
   "id": "9da5521c",
   "metadata": {},
   "outputs": [
    {
     "name": "stdout",
     "output_type": "stream",
     "text": [
      ">> 숫자 리스트를 입력하시오248\n",
      "16.0\n"
     ]
    }
   ],
   "source": [
    "# 등차 vs 등비 여부를 각 원소의 차이가 일정한지로 확인\n",
    "\n",
    "def solution(common):\n",
    "    answer = 0\n",
    "    \n",
    "    if common[1] - common[0] == common[2] - common[1]:\n",
    "        answer = common[-1] + common[1] - common[0]\n",
    "    else:\n",
    "        answer = common[-1] * (common[1]/common[0])\n",
    "        \n",
    "    return answer\n",
    "\n",
    "while True:\n",
    "    common = [int(num) for num in input('>> 숫자 리스트를 입력하시오')]\n",
    "    common.sort\n",
    "    if 2 < len(common) < 1000 and common[0] > -1000 and common[-1] < 2000 and set(common) != 0:\n",
    "        print(solution(common))\n",
    "        break        \n"
   ]
  },
  {
   "cell_type": "markdown",
   "id": "1bd35212",
   "metadata": {},
   "source": [
    "<b>2023/01/03</b>\n",
    "\n",
    "level = 0\n",
    "## <프로그래머스> 피자 나눠 먹기 (1)\n",
    "머쓱이네 피자가게는 피자를 일곱 조각으로 잘라 줍니다. 피자를 나눠먹을 사람의 수 n이 주어질 때, 모든 사람이 피자를 한 조각 이상 먹기 위해 필요한 피자의 수를 return 하는 solution 함수를 완성해보세요."
   ]
  },
  {
   "cell_type": "code",
   "execution_count": 4,
   "id": "575957ce",
   "metadata": {},
   "outputs": [
    {
     "name": "stdout",
     "output_type": "stream",
     "text": [
      "3\n",
      "3\n"
     ]
    }
   ],
   "source": [
    "# 방법1\n",
    "def solution(n):\n",
    "    answer, remained = divmod(n, 7)\n",
    "    if remained > 0:\n",
    "        answer += 1\n",
    "    return answer\n",
    "print(solution(15))\n",
    "\n",
    "# 방법2\n",
    "import math\n",
    "def solution2(n):\n",
    "    answer = math.ceil(n / 7)\n",
    "    return answer\n",
    "\n",
    "print(solution2(15))"
   ]
  },
  {
   "cell_type": "markdown",
   "id": "63c9220c",
   "metadata": {},
   "source": [
    "<b>2023/01/03</b>\n",
    "\n",
    "level = 0\n",
    "## <프로그래머스> 피자 나눠 먹기 (3)\n",
    "\n",
    "머쓱이네 피자가게는 피자를 두 조각에서 열 조각까지 원하는 조각 수로 잘라줍니다. 피자 조각 수 slice와 피자를 먹는 사람의 수 n이 매개변수로 주어질 때, n명의 사람이 최소 한 조각 이상 피자를 먹으려면 최소 몇 판의 피자를 시켜야 하는지를 return 하도록 solution 함수를 완성해보세요."
   ]
  },
  {
   "cell_type": "code",
   "execution_count": 6,
   "id": "438ffa0b",
   "metadata": {},
   "outputs": [
    {
     "name": "stdout",
     "output_type": "stream",
     "text": [
      "4\n"
     ]
    }
   ],
   "source": [
    "import math\n",
    "\n",
    "def solution(slice, n):\n",
    "    answer = math.ceil(n / slice)\n",
    "    return answer\n",
    "\n",
    "print(solution(4, 15))"
   ]
  },
  {
   "cell_type": "markdown",
   "id": "c12f1d8e",
   "metadata": {},
   "source": [
    "<b>2023/01/03</b>\n",
    "\n",
    "level = 0\n",
    "## <프로그래머스> 짝수의 합\n",
    "정수 n이 주어질 때, n이하의 짝수를 모두 더한 값을 return 하도록 solution 함수를 작성해주세요."
   ]
  },
  {
   "cell_type": "code",
   "execution_count": 10,
   "id": "86e03c9b",
   "metadata": {},
   "outputs": [
    {
     "name": "stdout",
     "output_type": "stream",
     "text": [
      "6\n"
     ]
    }
   ],
   "source": [
    "def solution(n):\n",
    "    answer = 0\n",
    "    for i in range(n // 2 + 1):\n",
    "        answer += 2 * i \n",
    "    return answer\n",
    "\n",
    "print(solution(4))"
   ]
  },
  {
   "cell_type": "markdown",
   "id": "7cb8c1c2",
   "metadata": {},
   "source": [
    "<b>2023/01/03</b>\n",
    "\n",
    "level = 0\n",
    "## <프로그래머스>나이 출력\n",
    "\n",
    "머쓱이는 40살인 선생님이 몇 년도에 태어났는지 궁금해졌습니다. 나이 age가 주어질 때, 2022년을 기준 출생 연도를 return 하는 solution 함수를 완성해주세요."
   ]
  },
  {
   "cell_type": "code",
   "execution_count": 33,
   "id": "16355ce9",
   "metadata": {},
   "outputs": [
    {
     "data": {
      "text/plain": [
       "1995"
      ]
     },
     "execution_count": 33,
     "metadata": {},
     "output_type": "execute_result"
    }
   ],
   "source": [
    "def solution(age):\n",
    "    return 2022 - age + 1\n",
    "\n",
    "solution(28)"
   ]
  },
  {
   "cell_type": "markdown",
   "id": "fd365936",
   "metadata": {},
   "source": [
    "<b>2023/01/03</b>\n",
    "\n",
    "level = 0\n",
    "## <프로그래머스> 양꼬치\n",
    "머쓱이네 양꼬치 가게는 10인분을 먹으면 음료수 하나를 서비스로 줍니다. 양꼬치는 1인분에 12,000원, 음료수는 2,000원입니다. 정수 n과 k가 매개변수로 주어졌을 때, 양꼬치 n인분과 음료수 k개를 먹었다면 총얼마를 지불해야 하는지 return 하도록 solution 함수를 완성해보세요."
   ]
  },
  {
   "cell_type": "code",
   "execution_count": 11,
   "id": "854cb232",
   "metadata": {},
   "outputs": [
    {
     "data": {
      "text/plain": [
       "188000"
      ]
     },
     "execution_count": 11,
     "metadata": {},
     "output_type": "execute_result"
    }
   ],
   "source": [
    "def solution(n, k):\n",
    "    service, _ = divmod(n, 10)\n",
    "    k -= service\n",
    "\n",
    "    total = 12000 * n + 2000 * k\n",
    "    return total\n",
    "\n",
    "solution(15, 5) "
   ]
  },
  {
   "cell_type": "markdown",
   "id": "3a1a32eb",
   "metadata": {},
   "source": [
    "<b>2023/01/03</b>\n",
    "\n",
    "level = 0\n",
    "## <프로그래머스> 각도기\n",
    "각에서 0도 초과 90도 미만은 예각, 90도는 직각, 90도 초과 180도 미만은 둔각 180도는 평각으로 분류합니다. 각 angle이 매개변수로 주어질 때 예각일 때 1, 직각일 때 2, 둔각일 때 3, 평각일 때 4를 return하도록 solution 함수를 완성해주세요.\n",
    "\n",
    "예각 : 0 < angle < 90\n",
    "직각 : angle = 90\n",
    "둔각 : 90 < angle < 180\n",
    "평각 : angle = 180\n"
   ]
  },
  {
   "cell_type": "code",
   "execution_count": 21,
   "id": "f936dcc2",
   "metadata": {},
   "outputs": [
    {
     "name": "stdout",
     "output_type": "stream",
     "text": [
      "3\n",
      "3\n",
      "3\n"
     ]
    }
   ],
   "source": [
    "# 방법1\n",
    "def solution(angle):\n",
    "    answer = 0\n",
    "    if angle < 90: answer = 1\n",
    "    elif angle == 90: answer = 2    \n",
    "    elif angle < 180: answer = 3    \n",
    "    elif angle == 180: answer = 4    \n",
    "    return answer\n",
    "\n",
    "print(solution(92))\n",
    "\n",
    "# 방법2\n",
    "def solution2(angle):\n",
    "    answer, d = divmod(angle, 90)\n",
    "    if d > 0:\n",
    "        return answer * 2 +1\n",
    "    return answer * 2\n",
    "print(solution2(92))\n",
    "\n",
    "\n",
    "\n",
    "# 방법3\n",
    "def solution3(angle):\n",
    "    return (angle // 90 + 1) + (angle % 90 > 0) * 1\n",
    "\n",
    "print(solution3(92))"
   ]
  },
  {
   "cell_type": "markdown",
   "id": "c832bec9",
   "metadata": {},
   "source": [
    "<b>2023/01/03</b>\n",
    "\n",
    "level = 0\n",
    "## <프로그래머스> 짝수 홀수 개수\n",
    "\n",
    "정수가 담긴 리스트 num_list가 주어질 때, num_list의 원소 중 짝수와 홀수의 개수를 담은 배열을 return 하도록 solution 함수를 완성해보세요.\n",
    "\n"
   ]
  },
  {
   "cell_type": "code",
   "execution_count": 22,
   "id": "202eaf6c",
   "metadata": {},
   "outputs": [
    {
     "name": "stdout",
     "output_type": "stream",
     "text": [
      "[2, 3]\n",
      "[2, 3]\n"
     ]
    }
   ],
   "source": [
    "# 방법1\n",
    "def solution(num_list):\n",
    "    answer = [0,0]\n",
    "    for i in num_list:\n",
    "        if i % 2 == 0: answer[0] += 1\n",
    "        else: answer[1] += 1\n",
    "    return answer\n",
    "\n",
    "print(solution([1, 2, 3, 4, 5]))\n",
    "\n",
    "# 방법2\n",
    "def solution(num_list):\n",
    "    answer = [0, 0]\n",
    "    for i in num_list:\n",
    "        answer[i % 2] += 1\n",
    "    return answer\n",
    "\n",
    "print(solution([1, 2, 3, 4, 5]))"
   ]
  },
  {
   "cell_type": "markdown",
   "id": "ba228938",
   "metadata": {},
   "source": [
    "<b>2023/01/03</b>\n",
    "\n",
    "level = 0\n",
    "## <프로그래머스>두 수의 나눗셈\n",
    "\n",
    "정수 num1과 num2가 매개변수로 주어질 때, num1을 num2로 나눈 값에 1,000을 곱한 후 정수 부분을 return 하도록 soltuion 함수를 완성해주세요."
   ]
  },
  {
   "cell_type": "code",
   "execution_count": 23,
   "id": "5a9d41bf",
   "metadata": {},
   "outputs": [
    {
     "data": {
      "text/plain": [
       "1500"
      ]
     },
     "execution_count": 23,
     "metadata": {},
     "output_type": "execute_result"
    }
   ],
   "source": [
    "import math\n",
    "\n",
    "def solution(num1, num2):\n",
    "    answer = math.floor(num1 / num2 * 1000)\n",
    "    return answer\n",
    "\n",
    "\n",
    "solution(3,2)"
   ]
  },
  {
   "cell_type": "markdown",
   "id": "2f4dd431",
   "metadata": {},
   "source": [
    "<b>2023/01/03</b>\n",
    "\n",
    "level = 0\n",
    "## <프로그래머스>연속된 수의 합\n",
    "\n",
    "연속된 세 개의 정수를 더해 12가 되는 경우는 3, 4, 5입니다. 두 정수 num과 total이 주어집니다. 연속된 수 num개를 더한 값이 total이 될 때, 정수 배열을 오름차순으로 담아 return하도록 solution함수를 완성해보세요."
   ]
  },
  {
   "cell_type": "code",
   "execution_count": 27,
   "id": "834d2dc9",
   "metadata": {},
   "outputs": [
    {
     "data": {
      "text/plain": [
       "[3, 4, 5]"
      ]
     },
     "execution_count": 27,
     "metadata": {},
     "output_type": "execute_result"
    }
   ],
   "source": [
    "def solution(num, total):\n",
    "    n_li = [i for i in range(num)]        \n",
    "    answer = [int((total - sum(n_li))/num) + i for i in n_li]         \n",
    "    return answer\n",
    "\n",
    "\n",
    "solution(3, 12)"
   ]
  },
  {
   "cell_type": "markdown",
   "id": "f788aaac",
   "metadata": {},
   "source": [
    "<b>2023/01/03</b>\n",
    "\n",
    "level = 0\n",
    "## <프로그래머스>팩토리얼\n",
    "문제 설명\n",
    "i팩토리얼 (i!)은 1부터 i까지 정수의 곱을 의미합니다. 예를들어 5! = 5 * 4 * 3 * 2 * 1 = 120 입니다. 정수 n이 주어질 때 다음 조건을 만족하는 가장 큰 정수 i를 return 하도록 solution 함수를 완성해주세요.\n",
    "\n",
    "i! ≤ n"
   ]
  },
  {
   "cell_type": "code",
   "execution_count": 32,
   "id": "e905c83d",
   "metadata": {},
   "outputs": [
    {
     "data": {
      "text/plain": [
       "5"
      ]
     },
     "execution_count": 32,
     "metadata": {},
     "output_type": "execute_result"
    }
   ],
   "source": [
    "import math\n",
    "\n",
    "def c(n):\n",
    "    x = 0\n",
    "    while True:\n",
    "        x += 1\n",
    "        if math.factorial(x) > n: \n",
    "            return x - 1 \n",
    "        \n",
    "        \n",
    "solution(120)"
   ]
  },
  {
   "cell_type": "markdown",
   "id": "43f05605",
   "metadata": {},
   "source": [
    "<b>2023/01/03</b>\n",
    "\n",
    "level = 0\n",
    "## <프로그래머스>A로 B 만들기\n",
    "문자열 before와 after가 매개변수로 주어질 때, before의 순서를 바꾸어 after를 만들 수 있으면 1을, 만들 수 없으면 0을 return 하도록 solution 함수를 완성해보세요."
   ]
  },
  {
   "cell_type": "code",
   "execution_count": 34,
   "id": "24b6de7b",
   "metadata": {},
   "outputs": [
    {
     "data": {
      "text/plain": [
       "0"
      ]
     },
     "execution_count": 34,
     "metadata": {},
     "output_type": "execute_result"
    }
   ],
   "source": [
    "from collections import Counter\n",
    "\n",
    "def solution(before, after):\n",
    "    return int(Counter(before) == Counter(after))\n",
    "\n",
    "solution(\"allpe\", \"apple\")"
   ]
  },
  {
   "cell_type": "markdown",
   "id": "9540a8d2",
   "metadata": {},
   "source": [
    "<b>2023/01/03</b>\n",
    "\n",
    "level = 0\n",
    "## <프로그래머스>모스부호 (1)\n",
    "\n",
    "머쓱이는 친구에게 모스부호를 이용한 편지를 받았습니다. 그냥은 읽을 수 없어 이를 해독하는 프로그램을 만들려고 합니다. 문자열 letter가 매개변수로 주어질 때, letter를 영어 소문자로 바꾼 문자열을 return 하도록 solution 함수를 완성해보세요.\n",
    "모스부호는 다음과 같습니다.\n",
    "\n",
    "```\n",
    "morse = { \n",
    "    '.-':'a','-...':'b','-.-.':'c','-..':'d','.':'e','..-.':'f',\n",
    "    '--.':'g','....':'h','..':'i','.---':'j','-.-':'k','.-..':'l',\n",
    "    '--':'m','-.':'n','---':'o','.--.':'p','--.-':'q','.-.':'r',\n",
    "    '...':'s','-':'t','..-':'u','...-':'v','.--':'w','-..-':'x',\n",
    "    '-.--':'y','--..':'z'\n",
    "    }\n",
    "```"
   ]
  },
  {
   "cell_type": "code",
   "execution_count": 35,
   "id": "e5d548d8",
   "metadata": {},
   "outputs": [
    {
     "data": {
      "text/plain": [
       "'hello'"
      ]
     },
     "execution_count": 35,
     "metadata": {},
     "output_type": "execute_result"
    }
   ],
   "source": [
    "def solution(letter):\n",
    "    morse = { \n",
    "    '.-':'a','-...':'b','-.-.':'c','-..':'d','.':'e','..-.':'f',\n",
    "    '--.':'g','....':'h','..':'i','.---':'j','-.-':'k','.-..':'l',\n",
    "    '--':'m','-.':'n','---':'o','.--.':'p','--.-':'q','.-.':'r',\n",
    "    '...':'s','-':'t','..-':'u','...-':'v','.--':'w','-..-':'x',\n",
    "    '-.--':'y','--..':'z'\n",
    "    }\n",
    "    \n",
    "    return ''.join([morse[l] for l in letter.split()])\n",
    "\n",
    "solution(\".... . .-.. .-.. ---\")"
   ]
  },
  {
   "cell_type": "markdown",
   "id": "6bb4a00d",
   "metadata": {},
   "source": [
    "<b>2023/01/03</b>\n",
    "\n",
    "level = 0\n",
    "## <프로그래머스>2차원으로 만들기\n",
    "\n",
    "정수 배열 num_list와 정수 n이 매개변수로 주어집니다. num_list를 다음 설명과 같이 2차원 배열로 바꿔 return하도록 solution 함수를 완성해주세요.\n",
    "\n",
    "num_list가 [1, 2, 3, 4, 5, 6, 7, 8] 로 길이가 8이고 n이 2이므로 num_list를 2 * 4 배열로 다음과 같이 변경합니다."
   ]
  },
  {
   "cell_type": "code",
   "execution_count": 44,
   "id": "024f0031",
   "metadata": {},
   "outputs": [
    {
     "data": {
      "text/plain": [
       "[[1, 2], [3, 4], [5, 6], [7, 8]]"
      ]
     },
     "execution_count": 44,
     "metadata": {},
     "output_type": "execute_result"
    }
   ],
   "source": [
    "def solution(num_list, n):    \n",
    "    return [num_list[i * n : (i + 1) * n] for i in range(len(num_list) // n)]\n",
    "            \n",
    "solution([1, 2, 3, 4, 5, 6, 7, 8], 2)"
   ]
  },
  {
   "cell_type": "markdown",
   "id": "ab8feaf6",
   "metadata": {},
   "source": [
    "<b>2023/01/03</b>\n",
    "\n",
    "level = 0\n",
    "## <프로그래머스> 가까운 수\n",
    "\n",
    "정수 배열 array와 정수 n이 매개변수로 주어질 때, array에 들어있는 정수 중 n과 가장 가까운 수를 return 하도록 solution 함수를 완성해주세요.\n",
    "가장 가까운 수가 여러 개일 경우 더 작은 수를 return 합니다."
   ]
  },
  {
   "cell_type": "code",
   "execution_count": 63,
   "id": "72d0e56e",
   "metadata": {},
   "outputs": [
    {
     "data": {
      "text/plain": [
       "28"
      ]
     },
     "execution_count": 63,
     "metadata": {},
     "output_type": "execute_result"
    }
   ],
   "source": [
    "def solution(array, n):\n",
    "    dif = [abs(i - n) for i in array]\n",
    "    ns = [array[idx] for idx, i in enumerate(dif) if i == min(dif)]\n",
    "    return min(ns)\n",
    "\n",
    "\n",
    "solution([3, 10, 28, 72], 50)"
   ]
  },
  {
   "cell_type": "markdown",
   "id": "5c2e9111",
   "metadata": {},
   "source": [
    "<b>2023/01/03</b>\n",
    "\n",
    "level = 0\n",
    "## <프로그래머스>k의 개수\n",
    "\n",
    "1부터 13까지의 수에서, 1은 1, 10, 11, 12, 13 이렇게 총 6번 등장합니다. 정수 i, j, k가 매개변수로 주어질 때, i부터 j까지 k가 몇 번 등장하는지 return 하도록 solution 함수를 완성해주세요.\n",
    "```\n",
    "제한사항\n",
    "1 ≤ i < j ≤ 100,000\n",
    "0 ≤ k ≤ 9\n",
    "```"
   ]
  },
  {
   "cell_type": "code",
   "execution_count": 66,
   "id": "6eb87695",
   "metadata": {},
   "outputs": [
    {
     "name": "stdout",
     "output_type": "stream",
     "text": [
      "6\n",
      "6\n"
     ]
    }
   ],
   "source": [
    "# 방법1\n",
    "def solution(i, j, k):\n",
    "    str_trans = ''.join([str(num) for num in range(i, j + 1)])\n",
    "    return len([s for s in str_trans if s == str(k)])\n",
    "\n",
    "print(solution(1,13,1))\n",
    "\n",
    "\n",
    "# 방법2\n",
    "def solution(i, j, k):\n",
    "    return sum([str(i).count(str(k)) for i in range(i, j + 1)])\n",
    "\n",
    "print(solution(1,13,1))"
   ]
  },
  {
   "cell_type": "markdown",
   "id": "1bd6a462",
   "metadata": {},
   "source": [
    "<b>2023/01/03</b>\n",
    "\n",
    "level = 0\n",
    "## <프로그래머스>진료 순서 정하기\n",
    "\n",
    "외과의사 머쓱이는 응급실에 온 환자의 응급도를 기준으로 진료 순서를 정하려고 합니다. 정수 배열 emergency가 매개변수로 주어질 때 응급도가 높은 순서대로 진료 순서를 정한 배열을 return하도록 solution 함수를 완성해주세요."
   ]
  },
  {
   "cell_type": "code",
   "execution_count": 97,
   "id": "c98efb0a",
   "metadata": {},
   "outputs": [
    {
     "name": "stdout",
     "output_type": "stream",
     "text": [
      "[2, 4, 3, 5, 1]\n"
     ]
    },
    {
     "data": {
      "text/plain": [
       "[2, 4, 3, 5, 1]"
      ]
     },
     "execution_count": 97,
     "metadata": {},
     "output_type": "execute_result"
    }
   ],
   "source": [
    "# 방법1\n",
    "import numpy as np\n",
    "\n",
    "def solution(emergency):\n",
    "    return list(np.array(emergency)[::-1].argsort() + 1)\n",
    "\n",
    "print(solution([30, 10, 23, 6, 100]))\n",
    "\n",
    "# 방법2\n",
    "def solution(emergency):\n",
    "    return [sorted(emergency, reverse = True).index(i) + 1 for i in emergency]\n",
    "\n",
    "solution([30, 10, 23, 6, 100])"
   ]
  },
  {
   "cell_type": "markdown",
   "id": "29ebe63a",
   "metadata": {},
   "source": [
    "<b>2023/01/03</b>\n",
    "\n",
    "level = 0\n",
    "## <프로그래머스>한 번만 등장한 문자\n",
    "\n",
    "문자열 s가 매개변수로 주어집니다. s에서 한 번만 등장하는 문자를 사전 순으로 정렬한 문자열을 return 하도록 solution 함수를 완성해보세요. 한 번만 등장하는 문자가 없을 경우 빈 문자열을 return 합니다."
   ]
  },
  {
   "cell_type": "code",
   "execution_count": 100,
   "id": "a6602349",
   "metadata": {},
   "outputs": [
    {
     "name": "stdout",
     "output_type": "stream",
     "text": [
      "d\n",
      "abcd\n"
     ]
    }
   ],
   "source": [
    "def solution(s):\n",
    "    return ''.join(sorted([i for i in s if s.count(i) == 1]))\n",
    "\n",
    "print(solution(\"abcabcadc\"))\n",
    "print(solution(\"abdc\"))"
   ]
  },
  {
   "cell_type": "markdown",
   "id": "41d0ac17",
   "metadata": {},
   "source": [
    "<b>2023/01/03</b>\n",
    "\n",
    "level = 0\n",
    "## <프로그래머스>7의 개수\n",
    "\n",
    "머쓱이는 행운의 숫자 7을 가장 좋아합니다. 정수 배열 array가 매개변수로 주어질 때, 7이 총 몇 개 있는지 return 하도록 solution 함수를 완성해보세요."
   ]
  },
  {
   "cell_type": "code",
   "execution_count": 103,
   "id": "f202979f",
   "metadata": {},
   "outputs": [
    {
     "name": "stdout",
     "output_type": "stream",
     "text": [
      "4\n",
      "4\n"
     ]
    }
   ],
   "source": [
    "def solution(array):\n",
    "    return ''.join([str(s) for s in array]).count('7')\n",
    "\n",
    "print(solution([7, 77, 17]))\n",
    "\n",
    "\n",
    "def solution(array):\n",
    "    return ''.join(map(str, array)).count('7')\n",
    "\n",
    "print(solution([7, 77, 17]))"
   ]
  },
  {
   "cell_type": "markdown",
   "id": "94997390",
   "metadata": {},
   "source": [
    "<b>2023/01/03</b>\n",
    "\n",
    "level = 0\n",
    "## <프로그래머스>이진수 더하기\n",
    "이진수를 의미하는 두 개의 문자열 bin1과 bin2가 매개변수로 주어질 때, 두 이진수의 합을 return하도록 solution 함수를 완성해주세요"
   ]
  },
  {
   "cell_type": "code",
   "execution_count": 104,
   "id": "6f432937",
   "metadata": {},
   "outputs": [
    {
     "data": {
      "text/plain": [
       "'11000'"
      ]
     },
     "execution_count": 104,
     "metadata": {},
     "output_type": "execute_result"
    }
   ],
   "source": [
    "def solution(bin1, bin2):\n",
    "    return bin(int(bin1, 2) + int(bin2, 2))[2:]\n",
    "\n",
    "solution(\"1001\", \"1111\")"
   ]
  },
  {
   "cell_type": "markdown",
   "id": "1913360e",
   "metadata": {},
   "source": [
    "<b>2023/01/03</b>\n",
    "\n",
    "level = 0\n",
    "## <프로그래머스>숨어있는 숫자의 덧셈 (2)\n",
    "\n",
    "문자열 my_string이 매개변수로 주어집니다. my_string은 소문자, 대문자, 자연수로만 구성되어있습니다. my_string안의 자연수들의 합을 return하도록 solution 함수를 완성해주세요.\n",
    "```\n",
    "제한사항\n",
    "1 ≤ my_string의 길이 ≤ 1,000\n",
    "1 ≤ my_string 안의 자연수 ≤ 1000\n",
    "연속된 수는 하나의 숫자로 간주합니다.\n",
    "000123과 같이 0이 선행하는 경우는 없습니다.\n",
    "문자열에 자연수가 없는 경우 0을 return 해주세요.\n",
    "```"
   ]
  },
  {
   "cell_type": "code",
   "execution_count": 109,
   "id": "6037ea66",
   "metadata": {},
   "outputs": [
    {
     "data": {
      "text/plain": [
       "0"
      ]
     },
     "execution_count": 109,
     "metadata": {},
     "output_type": "execute_result"
    }
   ],
   "source": [
    "import re\n",
    "\n",
    "def solution(my_string):\n",
    "    return sum(map(int,re.findall('\\d+', my_string)))\n",
    "\n",
    "solution(\"AbBcCop\")"
   ]
  },
  {
   "cell_type": "markdown",
   "id": "43ec33db",
   "metadata": {},
   "source": [
    "<b>2023/01/03</b>\n",
    "\n",
    "level = 0\n",
    "## <프로그래머스>공 던지기\n",
    "머쓱이는 친구들과 동그랗게 서서 공 던지기 게임을 하고 있습니다. 공은 1번부터 던지며 오른쪽으로 한 명을 건너뛰고 그다음 사람에게만 던질 수 있습니다. 친구들의 번호가 들어있는 정수 배열 numbers와 정수 K가 주어질 때, k번째로 공을 던지는 사람의 번호는 무엇인지 return 하도록 solution 함수를 완성해보세요."
   ]
  },
  {
   "cell_type": "code",
   "execution_count": 121,
   "id": "1efe9650",
   "metadata": {
    "scrolled": true
   },
   "outputs": [
    {
     "data": {
      "text/plain": [
       "3"
      ]
     },
     "execution_count": 121,
     "metadata": {},
     "output_type": "execute_result"
    }
   ],
   "source": [
    "def solution(numbers, k):\n",
    "    turn = [i for i in numbers if i % 2 == 1]\n",
    "    if len(numbers) % 2 == 1:\n",
    "        turn += [i for i in numbers if i % 2 == 0]\n",
    "    return turn[k % len(turn)  - 1]\n",
    "\n",
    "\n",
    "\n",
    "solution([1, 2, 3, 4, 5, 6], 5)"
   ]
  },
  {
   "cell_type": "markdown",
   "id": "3b7e5c74",
   "metadata": {},
   "source": [
    "<b>2023/01/04</b>\n",
    "\n",
    "level = 0\n",
    "## <프로그래머스>소인수분해\n",
    "\n",
    "소인수분해란 어떤 수를 소수들의 곱으로 표현하는 것입니다. 예를 들어 12를 소인수 분해하면 2 * 2 * 3 으로 나타낼 수 있습니다. 따라서 12의 소인수는 2와 3입니다. 자연수 n이 매개변수로 주어질 때 n의 소인수를 오름차순으로 담은 배열을 return하도록 solution 함수를 완성해주세요."
   ]
  },
  {
   "cell_type": "code",
   "execution_count": 149,
   "id": "7250c2b8",
   "metadata": {},
   "outputs": [
    {
     "name": "stdout",
     "output_type": "stream",
     "text": [
      "[3, 7, 11, 13, 37]\n",
      "[3, 7, 11, 13, 37]\n"
     ]
    }
   ],
   "source": [
    "# 방법1 \n",
    "\n",
    "def solution(n):\n",
    "    box = []\n",
    "    div_x = 2\n",
    "    while True:\n",
    "        # 나눴을때 몫이 1이고, 나머지가 0이면 중단\n",
    "        if divmod(n,div_x) == (1,0):\n",
    "            box.append(div_x)\n",
    "            break\n",
    "        # 나눴을때 나머지가 0인 경우 박스에 나눈 수를 추가하고 나눈 값으로 n을 변경\n",
    "        elif n % div_x == 0:\n",
    "            n //= div_x\n",
    "            box.append(div_x)\n",
    "            div_x = 2\n",
    "            continue\n",
    "        # 아닌 경우는 나눈 수를 1 더해주기\n",
    "        else:\n",
    "            div_x += 1\n",
    "    return sorted(list(set(box)))\n",
    "\n",
    "print(solution(111111))\n",
    "\n",
    "\n",
    "# 방법2\n",
    "def solution(n):\n",
    "    answer = []\n",
    "    div_x = 2\n",
    "    while div_x <= n:\n",
    "        if n % div_x == 0:\n",
    "            n /= div_x\n",
    "            if div_x not in answer:\n",
    "                answer.append(div_x)\n",
    "        else:\n",
    "            div_x += 1\n",
    "    return answer\n",
    "\n",
    "print(solution(111111))"
   ]
  },
  {
   "cell_type": "markdown",
   "id": "8f9c1422",
   "metadata": {},
   "source": [
    "<b>2023/01/04</b>\n",
    "\n",
    "level = 0\n",
    "## <프로그래머스>잘라서 배열로 저장하기\n",
    "문자열 my_str과 n이 매개변수로 주어질 때, my_str을 길이 n씩 잘라서 저장한 배열을 return하도록 solution 함수를 완성해주세요."
   ]
  },
  {
   "cell_type": "code",
   "execution_count": 156,
   "id": "db4ee67d",
   "metadata": {},
   "outputs": [
    {
     "data": {
      "text/plain": [
       "['abc1A', 'ddfgg', 'g4556', 'b']"
      ]
     },
     "execution_count": 156,
     "metadata": {},
     "output_type": "execute_result"
    }
   ],
   "source": [
    "import math\n",
    "def solution(my_str, n):\n",
    "    return [my_str[i * n : (i + 1) * n] for i in range(math.ceil(len(my_str) / n))]\n",
    "\n",
    "solution(\"abc1Addfggg4556b\", 5)"
   ]
  },
  {
   "cell_type": "markdown",
   "id": "e9bb5efd",
   "metadata": {},
   "source": [
    "<b>2023/01/04</b>\n",
    "\n",
    "level = 0\n",
    "## <프로그래머스>영어가 싫어요\n",
    "영어가 싫은 머쓱이는 영어로 표기되어있는 숫자를 수로 바꾸려고 합니다. 문자열 numbers가 매개변수로 주어질 때, numbers를 정수로 바꿔 return 하도록 solution 함수를 완성해 주세요."
   ]
  },
  {
   "cell_type": "code",
   "execution_count": 164,
   "id": "583d3535",
   "metadata": {},
   "outputs": [
    {
     "data": {
      "text/plain": [
       "123456789"
      ]
     },
     "execution_count": 164,
     "metadata": {},
     "output_type": "execute_result"
    }
   ],
   "source": [
    "def solution(numbers):\n",
    "    words = [\"zero\", \"one\", \"two\", \"three\", \"four\", \"five\", \"six\", \"seven\", \"eight\", \"nine\"]\n",
    "    for word in words:\n",
    "        numbers = numbers.replace(word, str(words.index(word)))\n",
    "    return int(numbers)\n",
    "\n",
    "\n",
    "solution(\"onetwothreefourfivesixseveneightnine\")"
   ]
  },
  {
   "cell_type": "markdown",
   "id": "fc2d790c",
   "metadata": {},
   "source": [
    "<b>2023/01/04</b>\n",
    "\n",
    "level = 0\n",
    "## <프로그래머스>문자열 계산하기\n",
    "\n",
    "my_string은 \"3 + 5\"처럼 문자열로 된 수식입니다. 문자열 my_string이 매개변수로 주어질 때, 수식을 계산한 값을 return 하는 solution 함수를 완성해주세요.\n",
    "\n",
    "```\n",
    "연산자는 +, -만 존재합니다.\n",
    "문자열의 시작과 끝에는 공백이 없습니다.\n",
    "0으로 시작하는 숫자는 주어지지 않습니다.\n",
    "잘못된 수식은 주어지지 않습니다.\n",
    "5 ≤ my_string의 길이 ≤ 100\n",
    "my_string을 계산한 결과값은 1 이상 100,000 이하입니다.\n",
    "my_string의 중간 계산 값은 -100,000 이상 100,000 이하입니다.\n",
    "계산에 사용하는 숫자는 1 이상 20,000 이하인 자연수입니다.\n",
    "my_string에는 연산자가 적어도 하나 포함되어 있습니다.\n",
    "return type 은 정수형입니다.\n",
    "my_string의 숫자와 연산자는 공백 하나로 구분되어 있습니다.\n",
    "```"
   ]
  },
  {
   "cell_type": "code",
   "execution_count": 166,
   "id": "118635b1",
   "metadata": {},
   "outputs": [
    {
     "data": {
      "text/plain": [
       "['3', '+', '4']"
      ]
     },
     "execution_count": 166,
     "metadata": {},
     "output_type": "execute_result"
    }
   ],
   "source": [
    "\"3 + 4\".split()"
   ]
  },
  {
   "cell_type": "code",
   "execution_count": 168,
   "id": "b74cba1f",
   "metadata": {},
   "outputs": [
    {
     "name": "stdout",
     "output_type": "stream",
     "text": [
      "7\n",
      "7\n"
     ]
    }
   ],
   "source": [
    "# 방법1\n",
    "def solution(my_string):\n",
    "    str_li = my_string.split()\n",
    "    n = int(str_li[0])\n",
    "    for i in range(len(str_li) // 2):\n",
    "        if str_li[2 * i + 1] == '+':\n",
    "            n += int(str_li[2 * (i + 1)])\n",
    "        if str_li[2 * i + 1] == '-':\n",
    "            n -= int(str_li[2 * (i + 1)])\n",
    "    return n\n",
    "\n",
    "print(solution(\"3 + 4\"))\n",
    "\n",
    "\n",
    "# 방법2\n",
    "def solution(my_string):\n",
    "    return eval(my_string)\n",
    "\n",
    "print(solution(\"3 + 4\"))"
   ]
  },
  {
   "cell_type": "markdown",
   "id": "9a1bf6ed",
   "metadata": {},
   "source": [
    "<b>2023/01/04</b>\n",
    "\n",
    "level = 0\n",
    "## <프로그래머스>구슬을 나누는 경우의 수\n",
    "머쓱이는 구슬을 친구들에게 나누어주려고 합니다. 구슬은 모두 다르게 생겼습니다. 머쓱이가 갖고 있는 구슬의 개수 balls와 친구들에게 나누어 줄 구슬 개수 share이 매개변수로 주어질 때, balls개의 구슬 중 share개의 구슬을 고르는 가능한 모든 경우의 수를 return 하는 solution 함수를 완성해주세요."
   ]
  },
  {
   "cell_type": "code",
   "execution_count": 169,
   "id": "a867d9b7",
   "metadata": {},
   "outputs": [
    {
     "name": "stdout",
     "output_type": "stream",
     "text": [
      "10.0\n",
      "10\n"
     ]
    }
   ],
   "source": [
    "# 방법1\n",
    "from math import factorial\n",
    "\n",
    "def solution(balls, share):\n",
    "    return factorial(balls)/(factorial(share) * factorial(balls - share))\n",
    "\n",
    "print(solution(5,3))\n",
    "\n",
    "# 방법2\n",
    "from math import comb\n",
    "\n",
    "def solution(balls, share):\n",
    "    return comb(balls, share)\n",
    "\n",
    "print(solution(5,3))"
   ]
  },
  {
   "cell_type": "markdown",
   "id": "7df00ee1",
   "metadata": {},
   "source": [
    "<b>2023/01/04</b>\n",
    "\n",
    "level = 0\n",
    "## <프로그래머스>종이 자르기\n",
    "\n",
    "머쓱이는 큰 종이를 1 x 1 크기\b로 자르려고 합니다. 예를 들어 2 x 2 크기의 종이를 1 x 1 크기로 자르려면 최소 가위질 세 번이 필요합니다.\n",
    "\n",
    "<img src = 'https://grepp-programmers.s3.ap-northeast-2.amazonaws.com/files/production/37cec804-18c5-4c58-95fc-37b4d52e6e7f/%E1%84%89%E1%85%B3%E1%84%8F%E1%85%B3%E1%84%85%E1%85%B5%E1%86%AB%E1%84%89%E1%85%A3%E1%86%BA%202022-07-25%20%E1%84%8B%E1%85%A9%E1%84%92%E1%85%AE%204.49.44.png'>\n",
    "\n",
    "정수 M, N이 매개변수로 주어질 때, M x N 크기의 종이를 최소로 가위질 해야하는 횟수를 return 하도록 solution 함수를 완성해보세요."
   ]
  },
  {
   "cell_type": "code",
   "execution_count": 170,
   "id": "635af1c4",
   "metadata": {},
   "outputs": [
    {
     "data": {
      "text/plain": [
       "3"
      ]
     },
     "execution_count": 170,
     "metadata": {},
     "output_type": "execute_result"
    }
   ],
   "source": [
    "def solution(M, N):\n",
    "    x, y = min(M, N), max((M, N))\n",
    "    return (y - 1) + (y * (x - 1))\n",
    "\n",
    "solution(2, 2)"
   ]
  },
  {
   "cell_type": "markdown",
   "id": "1a2bf7e0",
   "metadata": {},
   "source": [
    "<b>2023/01/04</b>\n",
    "\n",
    "level = 0\n",
    "## <프로그래머스>외계어 사전\n",
    "PROGRAMMERS-962 행성에 불시착한 우주비행사 머쓱이는 외계행성의 언어를 공부하려고 합니다. 알파벳이 담긴 배열 spell과 외계어 사전 dic이 매개변수로 주어집니다. spell에 담긴 알파벳을 한번씩만 모두 사용한 단어가 dic에 존재한다면 1, 존재하지 않는다면 2를 return하도록 solution 함수를 완성해주세요.\n",
    "```\n",
    "제한사항\n",
    "spell과 dic의 원소는 알파벳 소문자로만 이루어져있습니다.\n",
    "2 ≤ spell의 크기 ≤ 10\n",
    "spell의 원소의 길이는 1입니다.\n",
    "1 ≤ dic의 크기 ≤ 10\n",
    "1 ≤ dic의 원소의 길이 ≤ 10\n",
    "spell의 원소를 모두 사용해 단어를 만들어야 합니다.\n",
    "spell의 원소를 모두 사용해 만들 수 있는 단어는 dic에 두 개 이상 존재하지 않습니다.\n",
    "dic과 spell 모두 중복된 원소를 갖지 않습니다.\n",
    "```"
   ]
  },
  {
   "cell_type": "code",
   "execution_count": 171,
   "id": "ba1c3fc7",
   "metadata": {},
   "outputs": [
    {
     "data": {
      "text/plain": [
       "2"
      ]
     },
     "execution_count": 171,
     "metadata": {},
     "output_type": "execute_result"
    }
   ],
   "source": [
    "import re\n",
    "def solution(spell, dic):\n",
    "    for d in dic:\n",
    "        if sorted(d) == sorted(spell):\n",
    "            return 1\n",
    "    return 2\n",
    "\n",
    "solution([\"p\", \"o\", \"s\"], [\"sod\", \"eocd\", \"qixm\", \"adio\", \"soo\"])"
   ]
  },
  {
   "cell_type": "markdown",
   "id": "c6c9d7e0",
   "metadata": {},
   "source": [
    "<b>2023/01/04</b>\n",
    "\n",
    "level = 0\n",
    "## <프로그래머스>컨트롤 제트\n",
    "\n",
    "숫자와 \"Z\"가 공백으로 구분되어 담긴 문자열이 주어집니다. 문자열에 있는 숫자를 차례대로 더하려고 합니다. 이 때 \"Z\"가 나오면 바로 전에 더했던 숫자를 뺀다는 뜻입니다. 숫자와 \"Z\"로 이루어진 문자열 s가 주어질 때, 머쓱이가 구한 값을 return 하도록 solution 함수를 완성해보세요.\n",
    "\n",
    "```\n",
    "제한사항\n",
    "1 ≤ s의 길이 ≤ 200\n",
    "-1,000 < s의 원소 중 숫자 < 1,000\n",
    "s는 숫자, \"Z\", 공백으로 이루어져 있습니다.\n",
    "s에 있는 숫자와 \"Z\"는 서로 공백으로 구분됩니다.\n",
    "연속된 공백은 주어지지 않습니다.\n",
    "0을 제외하고는 0으로 시작하는 숫자는 없습니다.\n",
    "s는 \"Z\"로 시작하지 않습니다.\n",
    "s의 시작과 끝에는 공백이 없습니다.\n",
    "\"Z\"가 연속해서 나오는 경우는 없습니다.\n",
    "```"
   ]
  },
  {
   "cell_type": "code",
   "execution_count": 173,
   "id": "c4a45948",
   "metadata": {},
   "outputs": [
    {
     "name": "stdout",
     "output_type": "stream",
     "text": [
      "1\n",
      "1\n"
     ]
    }
   ],
   "source": [
    "# 방법1\n",
    "def solution(s):\n",
    "    s_li = s.split()\n",
    "    n = 0\n",
    "    for i in range(len(s_li)):\n",
    "        if s_li[i] == 'Z':\n",
    "            n -= int(s_li[i - 1])\n",
    "        else:\n",
    "            n += int(s_li[i])\n",
    "\n",
    "    return n\n",
    "\n",
    "print(solution(\"10 Z 20 Z 1\"))\n",
    "\n",
    "# 방법2\n",
    "\n",
    "def solutions(s):\n",
    "    answer = []\n",
    "    for num in s.split():\n",
    "        if num == 'Z':\n",
    "            answer.pop()\n",
    "        else:\n",
    "            answer.append(num)\n",
    "    return sum(answwer)\n",
    "\n",
    "print(solution(\"10 Z 20 Z 1\"))           "
   ]
  },
  {
   "cell_type": "markdown",
   "id": "f4704fb2",
   "metadata": {},
   "source": [
    "<b>2023/01/04</b>\n",
    "\n",
    "level = 0\n",
    "## <프로그래머스>캐릭터의 좌표\n",
    "머쓱이는 RPG게임을 하고 있습니다. 게임에는 up, down, left, right 방향키가 있으며 각 키를 누르면 위, 아래, 왼쪽, 오른쪽으로 한 칸씩 이동합니다. 예를 들어 [0,0]에서 up을 누른다면 캐릭터의 좌표는 [0, 1], down을 누른다면 [0, -1], left를 누른다면 [-1, 0], right를 누른다면 [1, 0]입니다. 머쓱이가 입력한 방향키의 배열 keyinput와 맵의 크기 board이 매개변수로 주어집니다. 캐릭터는 항상 [0,0]에서 시작할 때 키 입력이 모두 끝난 뒤에 캐릭터의 좌표 [x, y]를 return하도록 solution 함수를 완성해주세요.\n",
    "[0, 0]은 board의 정 중앙에 위치합니다. 예를 들어 board의 가로 크기가 9라면 캐릭터는 왼쪽으로 최대 [-4, 0]까지 오른쪽으로 최대 [4, 0]까지 이동할 수 있습니다.\n",
    "```\n",
    "제한사항\n",
    "board은 [가로 크기, 세로 크기] 형태로 주어집니다.\n",
    "board의 가로 크기와 세로 크기는 홀수입니다.\n",
    "board의 크기를 벗어난 방향키 입력은 무시합니다.\n",
    "0 ≤ keyinput의 길이 ≤ 50\n",
    "1 ≤ board[0] ≤ 99\n",
    "1 ≤ board[1] ≤ 99\n",
    "keyinput은 항상 up, down, left, right만 주어집니다.\n",
    "```"
   ]
  },
  {
   "cell_type": "code",
   "execution_count": 190,
   "id": "0d395594",
   "metadata": {},
   "outputs": [
    {
     "name": "stdout",
     "output_type": "stream",
     "text": [
      "-1 0\n",
      "0 0\n",
      "0 1\n",
      "1 1\n",
      "2 1\n",
      "[2, 1]\n",
      "0 -1\n",
      "0 -2\n",
      "0 -3\n",
      "0 -4\n",
      "[0, -4]\n"
     ]
    }
   ],
   "source": [
    "def solution(keyinput, board):\n",
    "    width, height = board[0] // 2, board[1] // 2\n",
    "    move = {'right': [1, 0], 'left': [-1, 0], 'up': [0, 1], 'down': [0, -1]}\n",
    "    \n",
    "    x, y = [0, 0]\n",
    "    for key in keyinput:\n",
    "        if abs(x + move[key][0]) <= width and abs(y + move[key][1]) <= height:\n",
    "            x += move[key][0]\n",
    "            y += move[key][1]\n",
    " \n",
    "    return [x, y]\n",
    "\n",
    "\n",
    "\n",
    "print(solution([\"left\", \"right\", \"up\", \"right\", \"right\"], [11, 11]))\n",
    "\n",
    "print(solution([\"down\", \"down\", \"down\", \"down\", \"down\"], [7, 9]))"
   ]
  },
  {
   "cell_type": "markdown",
   "id": "2591faf7",
   "metadata": {},
   "source": [
    "<b>2023/01/04</b>\n",
    "\n",
    "level = 0\n",
    "## <프로그래머스>삼각형의 완성조건 (2)\n",
    "선분 세 개로 삼각형을 만들기 위해서는 다음과 같은 조건을 만족해야 합니다.\n",
    "\n",
    "가장 긴 변의 길이는 다른 두 변의 길이의 합보다 작아야 합니다.\n",
    "삼각형의 두 변의 길이가 담긴 배열 sides이 매개변수로 주어집니다. 나머지 한 변이 될 수 있는 정수의 개수를 return하도록 solution 함수를 완성해주세요.\n",
    "\n",
    "```\n",
    "제한사항\n",
    "sides의 원소는 자연수입니다.\n",
    "sides의 길이는 2입니다.\n",
    "1 ≤ sides의 원소 ≤ 1,000\n",
    "```"
   ]
  },
  {
   "cell_type": "code",
   "execution_count": 199,
   "id": "69c6a98f",
   "metadata": {},
   "outputs": [
    {
     "data": {
      "text/plain": [
       "13"
      ]
     },
     "execution_count": 199,
     "metadata": {},
     "output_type": "execute_result"
    }
   ],
   "source": [
    "def solution(sides):\n",
    "    answer = 0\n",
    "    for i in range(1, sides[0] + sides[1]):\n",
    "        all_sides = sorted(sides + [i])\n",
    "        if sum(all_sides[:2]) > all_sides[-1]:\n",
    "            answer += 1\n",
    "    return answer\n",
    "\n",
    "solution([11, 7])"
   ]
  },
  {
   "cell_type": "markdown",
   "id": "177fa25e",
   "metadata": {},
   "source": [
    "<b>2023/01/04</b>\n",
    "\n",
    "level = 0\n",
    "## <프로그래머스>분수의 덧셈\n",
    "첫 번째 분수의 분자와 분모를 뜻하는 denum1, num1, 두 번째 분수의 분자와 분모를 뜻하는 denum2, num2가 매개변수로 주어집니다. 두 분수를 더한 값을 기약 분수로 나타냈을 때 분자와 분모를 순서대로 담은 배열을 return 하도록 solution 함수를 완성해보세요.\n",
    "```\n",
    "제한사항\n",
    "0 <denum1, num1, denum2, num2 < 1,000\n",
    "```"
   ]
  },
  {
   "cell_type": "code",
   "execution_count": 218,
   "id": "26480d27",
   "metadata": {},
   "outputs": [
    {
     "name": "stdout",
     "output_type": "stream",
     "text": [
      "[43, 12]\n",
      "[43, 12]\n"
     ]
    }
   ],
   "source": [
    "# 방법1\n",
    "\n",
    "def insu(n):\n",
    "    d = 2\n",
    "    answer = []\n",
    "    while d <= n:\n",
    "        if n % d == 0:\n",
    "            n /= d\n",
    "            answer.append(d)\n",
    "        else:\n",
    "            d += 1\n",
    "    return sorted(answer)\n",
    "\n",
    "def solution(denum1, num1, denum2, num2):\n",
    "    up = denum1 * num2 + denum2 * num1\n",
    "    down = num1 * num2\n",
    "    \n",
    "    up_insu = insu(up)\n",
    "    down_insu = insu(down)\n",
    "    \n",
    "    for i in up_insu:\n",
    "        if i in down_insu:\n",
    "            up_insu.remove(i)\n",
    "            down_insu.remove(i)     \n",
    "            \n",
    "    return [prod(up_insu), prod(down_insu)]\n",
    "\n",
    "\n",
    "print(solution(35, 12, 2, 3) )\n",
    "\n",
    "# 방법2\n",
    "from math import gcd\n",
    "\n",
    "def solution(denum1, num1, denum2, num2):\n",
    "    up = denum1 * num2 + denum2 * num1\n",
    "    down = num1 * num2\n",
    "    \n",
    "    gcd_ = gcd(up, down)\n",
    "    return [int(up / gcd_), int(down / gcd_)]\n",
    "\n",
    "print(solution(35, 12, 2, 3) )"
   ]
  },
  {
   "cell_type": "markdown",
   "id": "bdccc764",
   "metadata": {},
   "source": [
    "<b>2023/01/05</b>\n",
    "\n",
    "level = 0\n",
    "## <프로그래머스>로그인 성공?\n",
    "머쓱이는 프로그래머스에 로그인하려고 합니다. 머쓱이가 입력한 아이디와 패스워드가 담긴 배열 id_pw와 회원들의 정보가 담긴 2차원 배열 db가 주어질 때, 다음과 같이 로그인 성공, 실패에 따른 메시지를 return하도록 solution 함수를 완성해주세요.\n",
    "\n",
    "아이디와 비밀번호가 모두 일치하는 회원정보가 있으면 \"login\"을 return합니다.\n",
    "로그인이 실패했을 때 아이디가 일치하는 회원이 없다면 “fail”를, 아이디는 일치하지만 비밀번호가 일치하는 회원이 없다면 “wrong pw”를 return 합니다."
   ]
  },
  {
   "cell_type": "code",
   "execution_count": 2,
   "id": "2c6d2004",
   "metadata": {},
   "outputs": [
    {
     "name": "stdout",
     "output_type": "stream",
     "text": [
      "wrong pw\n",
      "login\n"
     ]
    }
   ],
   "source": [
    "def solution(id_pw, db):\n",
    "    ids = [id_[0] for id_ in db]\n",
    "    pws = [id_[1] for id_ in db]\n",
    "\n",
    "    if id_pw in db:\n",
    "        return 'login'\n",
    "    elif id_pw[0] in ids:\n",
    "        return 'wrong pw'\n",
    "    return 'fail'\n",
    "\n",
    "print(solution([\"programmer01\", \"15789\"], [[\"programmer02\", \"111111\"], [\"programmer00\", \"134\"], [\"programmer01\", \"1145\"]]))\n",
    "print(solution([\"meosseugi\", \"1234\"], [[\"rardss\", \"123\"], [\"yyoom\", \"1234\"], [\"meosseugi\", \"1234\"]]))"
   ]
  },
  {
   "cell_type": "markdown",
   "id": "6b96ffdc",
   "metadata": {},
   "source": [
    "<b>2023/01/05</b>\n",
    "\n",
    "level = 0\n",
    "## <프로그래머스>직사각형 넓이 구하기\n",
    "2차원 좌표 평면에 변이 축과 평행한 직사각형이 있습니다. 직사각형 네 꼭짓점의 좌표 [[x1, y1], [x2, y2], [x3, y3], [x4, y4]]가 담겨있는 배열 dots가 매개변수로 주어질 때, 직사각형의 넓이를 return 하도록 solution 함수를 완성해보세요."
   ]
  },
  {
   "cell_type": "code",
   "execution_count": 6,
   "id": "fdba0e1e",
   "metadata": {},
   "outputs": [
    {
     "data": {
      "text/plain": [
       "4"
      ]
     },
     "execution_count": 6,
     "metadata": {},
     "output_type": "execute_result"
    }
   ],
   "source": [
    "def solution(dots):\n",
    "    square = sorted(dots)\n",
    "    return (square[1][1] - square[0][1]) * (square[2][0] - square[0][0])\n",
    "\n",
    "solution([[-1, -1], [1, 1], [1, -1], [-1, 1]])"
   ]
  },
  {
   "cell_type": "markdown",
   "id": "af8ea1b2",
   "metadata": {},
   "source": [
    "<b>2023/01/05</b>\n",
    "\n",
    "level = 0\n",
    "## <프로그래머스>문자열 밀기\n",
    "문자열 \"hello\"에서 각 문자를 오른쪽으로 한 칸씩 밀고 마지막 문자는 맨 앞으로 이동시키면 \"ohell\"이 됩니다. 이것을 문자열을 민다고 정의한다면 문자열 A와 B가 매개변수로 주어질 때, A를 밀어서 B가 될 수 있다면 몇 번 밀어야 하는지 횟수를 return하고 밀어서 B가 될 수 없으면 -1을 return 하도록 solution 함수를 완성해보세요."
   ]
  },
  {
   "cell_type": "code",
   "execution_count": 12,
   "id": "bb3dafb3",
   "metadata": {},
   "outputs": [
    {
     "name": "stdout",
     "output_type": "stream",
     "text": [
      "-1\n",
      "-1\n"
     ]
    }
   ],
   "source": [
    "# 방법41\n",
    "def solution(A, B):\n",
    "    n = 0\n",
    "    while n < (len(B)):\n",
    "        if A == B:\n",
    "            return 0\n",
    "        n += 1\n",
    "        A = A[-1] + A[:-1]\n",
    "        if A == B:\n",
    "            return n            \n",
    "    return -1\n",
    "print(solution(\"apple\",\"elppa\"))\n",
    "\n",
    "\n",
    "# 방법2\n",
    "solution = lambda a, b: (b * 2).find(a)\n",
    "\n",
    "print(solution(\"apple\",\"elppa\"))"
   ]
  },
  {
   "cell_type": "markdown",
   "id": "26bfb5c2",
   "metadata": {},
   "source": [
    "<b>2023/01/05</b>\n",
    "\n",
    "level = 0\n",
    "## <프로그래머스>저주의 숫자 3\n",
    "3x 마을 사람들은 3을 저주의 숫자라고 생각하기 때문에 3의 배수와 숫자 3을 사용하지 않습니다. 3x 마을 사람들의 숫자는 다음과 같습니다."
   ]
  },
  {
   "cell_type": "code",
   "execution_count": 56,
   "id": "a583e198",
   "metadata": {},
   "outputs": [
    {
     "data": {
      "text/plain": [
       "76"
      ]
     },
     "execution_count": 56,
     "metadata": {},
     "output_type": "execute_result"
    }
   ],
   "source": [
    "def solution(n):\n",
    "    x, y = 0, 0\n",
    "    while x < n:\n",
    "        x += 1\n",
    "        y += 1\n",
    "        while True:\n",
    "            if y % 3 == 0 or any([int(num) == 3 for num in str(y)]):\n",
    "                y += 1\n",
    "            else:\n",
    "                break\n",
    "    return y\n",
    "\n",
    "solution(40)"
   ]
  },
  {
   "cell_type": "markdown",
   "id": "3a987e20",
   "metadata": {},
   "source": [
    "<b>2023/01/05</b>\n",
    "\n",
    "level = 0\n",
    "## <프로그래머스>OX퀴즈\n",
    "\n",
    "덧셈, 뺄셈 수식들이 'X [연산자] Y = Z' 형태로 들어있는 문자열 배열 quiz가 매개변수로 주어집니다. 수식이 옳다면 \"O\"를 틀리다면 \"X\"를 순서대로 담은 배열을 return하도록 solution 함수를 완성해주세요."
   ]
  },
  {
   "cell_type": "code",
   "execution_count": 62,
   "id": "3973f894",
   "metadata": {},
   "outputs": [
    {
     "name": "stdout",
     "output_type": "stream",
     "text": [
      "['O', 'O', 'X', 'O']\n"
     ]
    }
   ],
   "source": [
    "def solution(quiz):\n",
    "    choose = ['X', 'O']\n",
    "    return [choose[eval(q.replace('=','=='))] for q in quiz]\n",
    "\n",
    "print(solution([\"19 - 6 = 13\", \"5 + 66 = 71\", \"5 - 15 = 63\", \"3 - 1 = 2\"]))"
   ]
  },
  {
   "cell_type": "markdown",
   "id": "f009bcb3",
   "metadata": {},
   "source": [
    "<b>2023/01/05</b>\n",
    "\n",
    "level = 0\n",
    "## <프로그래머스>특이한 정렬\n",
    "\n",
    "정수 n을 기준으로 n과 가까운 수부터 정렬하려고 합니다. 이때 n으로부터의 거리가 같다면 더 큰 수를 앞에 오도록 배치합니다. 정수가 담긴 배열 numlist와 정수 n이 주어질 때 numlist의 원소를 n으로부터 가까운 순서대로 정렬한 배열을 return하도록 solution 함수를 완성해주세요."
   ]
  },
  {
   "cell_type": "code",
   "execution_count": 90,
   "id": "1cce7bfe",
   "metadata": {},
   "outputs": [
    {
     "name": "stdout",
     "output_type": "stream",
     "text": [
      "[36, 40, 20, 47, 10, 6, 7000, 10000]\n",
      "[36, 40, 20, 47, 10, 6, 7000, 10000]\n"
     ]
    }
   ],
   "source": [
    "# 방법1\n",
    "def solution(numlist, n):\n",
    "    numlist_ = [(i, num - n, abs(num - n)) for i, num in enumerate(numlist)]\n",
    "    numlist_.sort(key = lambda x: (x[2], -x[1]))\n",
    "    return [numlist[i] for i, _, _ in numlist_]\n",
    "\n",
    "print(solution([10000,20,36,47,40,6,10,7000], 30))\n",
    "\n",
    "\n",
    "\n",
    "# 방법2\n",
    "def solution(numlist, n):\n",
    "    numlist.sort(key = lambda x: (abs(x - n), -1 * (x - n)))\n",
    "    return numlist\n",
    "print(solution([10000,20,36,47,40,6,10,7000], 30))"
   ]
  },
  {
   "cell_type": "markdown",
   "id": "7047d71c",
   "metadata": {},
   "source": [
    "<b>2023/01/05</b>\n",
    "\n",
    "level = 0\n",
    "## <프로그래머스>\n",
    "최빈값은 주어진 값 중에서 가장 자주 나오는 값을 의미합니다. 정수 배열 array가 매개변수로 주어질 때, 최빈값을 return 하도록 solution 함수를 완성해보세요. 최빈값이 여러 개면 -1을 return 합니다."
   ]
  },
  {
   "cell_type": "code",
   "execution_count": 109,
   "id": "29798007",
   "metadata": {},
   "outputs": [
    {
     "data": {
      "text/plain": [
       "3"
      ]
     },
     "execution_count": 109,
     "metadata": {},
     "output_type": "execute_result"
    }
   ],
   "source": [
    "from statistics import mode\n",
    "def solution(array):\n",
    "    count_arr = [(i, array.count(i)) for i in set(array)]\n",
    "    count_arr.sort(key = lambda x: -x[1])\n",
    "    if any([i == count_arr[0][1] for _, i in count_arr[1:]]):\n",
    "        return -1\n",
    "    return mode(array)\n",
    "\n",
    "solution([1,1,2,2,3,3,3])"
   ]
  },
  {
   "cell_type": "markdown",
   "id": "60fad36d",
   "metadata": {},
   "source": [
    "<b>2023/01/07</b>\n",
    "\n",
    "level = 0\n",
    "## <프로그래머스>안전지대\n",
    "다음 그림과 같이 지뢰가 있는 지역과 지뢰에 인접한 위, 아래, 좌, 우 대각선 칸을 모두 위험지역으로 분류합니다.\n",
    "\n",
    "<img src = 'https://grepp-programmers.s3.ap-northeast-2.amazonaws.com/files/production/124a2c93-da99-4643-96a8-292bb871f553/image.png'>\n",
    "지뢰는 2차원 배열 board에 1로 표시되어 있고 board에는 지뢰가 매설 된 지역 1과, 지뢰가 없는 지역 0만 존재합니다.\n",
    "지뢰가 매설된 지역의 지도 board가 매개변수로 주어질 때, 안전한 지역의 칸 수를 return하도록 solution 함수를 완성해주세요."
   ]
  },
  {
   "cell_type": "code",
   "execution_count": 18,
   "id": "fad0fc72",
   "metadata": {},
   "outputs": [
    {
     "data": {
      "text/plain": [
       "13"
      ]
     },
     "execution_count": 18,
     "metadata": {},
     "output_type": "execute_result"
    }
   ],
   "source": [
    "import numpy as np\n",
    "from itertools import product\n",
    "\n",
    "def solution(board):\n",
    "    board = np.array(board)\n",
    "    width, height = np.shape(board)\n",
    "    xs, ys = np.where(board == 1)[0], np.where(board == 1)[1]\n",
    "\n",
    "    for i in range(len(xs)):\n",
    "        for m_x, m_y in product([-1, 0, 1], repeat = 2):\n",
    "            x, y = xs[i] - m_x, ys[i] - m_y\n",
    "            if 0 <= x < width and 0 <= y < height and board[x, y] == 0:\n",
    "                board[x, y] = 2\n",
    "    return len(np.where(board == 0)[0])\n",
    "\n",
    "board = [[0, 0, 0, 0, 0], [0, 0, 0, 0, 0], [0, 0, 0, 0, 0], [0, 0, 1, 1, 0], [0, 0, 0, 0, 0]]\n",
    "solution(board)"
   ]
  },
  {
   "cell_type": "markdown",
   "id": "5ae904ee",
   "metadata": {},
   "source": [
    "<b>2023/01/07</b>\n",
    "\n",
    "level = 0\n",
    "## <프로그래머스>등수 매기기\n",
    "\n",
    "영어 점수와 수학 점수의 평균 점수를 기준으로 학생들의 등수를 매기려고 합니다. 영어 점수와 수학 점수를 담은 2차원 정수 배열 score가 주어질 때, 영어 점수와 수학 점수의 평균을 기준으로 매긴 등수를 담은 배열을 return하도록 solution 함수를 완성해주세요."
   ]
  },
  {
   "cell_type": "code",
   "execution_count": 64,
   "id": "0ea4a75d",
   "metadata": {},
   "outputs": [
    {
     "name": "stdout",
     "output_type": "stream",
     "text": [
      "[200, 200, 190, 190, 150, 150, 80, 40]\n"
     ]
    },
    {
     "data": {
      "text/plain": [
       "[5, 5, 7, 3, 3, 1, 1, 8]"
      ]
     },
     "execution_count": 64,
     "metadata": {},
     "output_type": "execute_result"
    }
   ],
   "source": [
    "# 방법1\n",
    "import numpy as np\n",
    "\n",
    "def solution(scores):\n",
    "    mean_score = np.array([np.mean(score) for score in scores])\n",
    "    rank_li = [0 for _ in mean_score]\n",
    "    \n",
    "    rank = 1\n",
    "    for score in sorted(list(set(mean_score)), reverse = True):\n",
    "        idxs = list(np.where(mean_score == score)[0])\n",
    "        for idx in idxs:\n",
    "            rank_li[idx] = rank\n",
    "        rank += len(idxs)\n",
    "    return rank_li\n",
    "\n",
    "scores = [[80, 70], [70, 80], [30, 50], [90, 100], [100, 90], [100, 100], [10, 30]]\n",
    "solution(scores)\n",
    "\n",
    "# 방법2\n",
    "\n",
    "def solution(scores):\n",
    "    sort_scores = sorted([sum(i) for i in scores], reverse = True)\n",
    "    print(sort_scores)\n",
    "    return [sort_scores.index(sum(i)) + 1 for i in scores]\n",
    "\n",
    "\n",
    "scores = [[80, 70], [70, 80], [30, 50], [90, 100], [100, 90], [100, 100], [100, 100], [10, 30]]\n",
    "solution(scores)"
   ]
  },
  {
   "cell_type": "markdown",
   "id": "2ec13356",
   "metadata": {},
   "source": [
    "<b>2023/01/09</b>\n",
    "\n",
    "level = 0\n",
    "## <프로그래머스>옹알이 (1)\n",
    "\n",
    "머쓱이는 태어난 지 6개월 된 조카를 돌보고 있습니다. 조카는 아직 \"aya\", \"ye\", \"woo\", \"ma\" 네 가지 발음을 최대 한 번씩 사용해 조합한(이어 붙인) 발음밖에 하지 못합니다. 문자열 배열 babbling이 매개변수로 주어질 때, 머쓱이의 조카가 발음할 수 있는 단어의 개수를 return하도록 solution 함수를 완성해주세요."
   ]
  },
  {
   "cell_type": "code",
   "execution_count": 88,
   "id": "5d810d50",
   "metadata": {},
   "outputs": [
    {
     "name": "stdout",
     "output_type": "stream",
     "text": [
      "1\n",
      "3\n"
     ]
    }
   ],
   "source": [
    "import re\n",
    "\n",
    "def solution(babbling):\n",
    "    can = [\"aya\", \"ye\", \"woo\", \"ma\"] \n",
    "    \n",
    "    cnt = 0\n",
    "    for i in babbling:\n",
    "        for c in can:\n",
    "            i = re.sub(c, ' ', i)\n",
    "        if re.sub('\\s+', '', i) == '':\n",
    "            cnt += 1\n",
    "    return cnt\n",
    "\n",
    "babbling = [\"aya\", \"yee\", \"u\", \"maa\", \"wyeoo\"]\n",
    "print(solution(babbling))\n",
    "babbling = [\"ayaye\", \"uuuma\", \"ye\", \"yemawoo\", \"ayaa\"] #3\n",
    "print(solution(babbling))"
   ]
  },
  {
   "cell_type": "markdown",
   "id": "1b154f30",
   "metadata": {},
   "source": [
    "<b>2023/01/09</b>\n",
    "\n",
    "level = 0\n",
    "## 평행\n",
    "점 네 개의 좌표를 담은 이차원 배열  dots가 다음과 같이 매개변수로 주어집니다.\n",
    "\n",
    "[[x1, y1], [x2, y2], [x3, y3], [x4, y4]]\n",
    "주어진 네 개의 점을 두 개씩 이었을 때, 두 직선이 평행이 되는 경우가 있으면 1을 없으면 0을 return 하도록 solution 함수를 완성해보세요.\n",
    "\n"
   ]
  },
  {
   "cell_type": "code",
   "execution_count": 146,
   "id": "7381a73e",
   "metadata": {},
   "outputs": [
    {
     "data": {
      "text/plain": [
       "1"
      ]
     },
     "execution_count": 146,
     "metadata": {},
     "output_type": "execute_result"
    }
   ],
   "source": [
    "import numpy as np\n",
    "\n",
    "def solution(dots):\n",
    "    for i in range(len(dots)):\n",
    "        for j in dots[i + 1:]:\n",
    "            line1 = np.array([dots[i], j])\n",
    "            line2 = np.array([dot for dot in dots if dot not in line1])\n",
    "            \n",
    "            x_1 = (line1[0] - line1[1])[0]/(line1[0] - line1[1])[1]\n",
    "            x_2 = (line2[0] - line2[1])[0]/(line2[0] - line2[1])[1]\n",
    "            \n",
    "            if x_1 == x_2 :\n",
    "                return 1\n",
    "    return 0\n",
    "\n",
    "dots = [[1, 4], [9, 2], [3, 8], [11, 6]]\n",
    "solution(dots)"
   ]
  },
  {
   "cell_type": "markdown",
   "id": "682d8e53",
   "metadata": {},
   "source": [
    "<b>2023/01/09</b>\n",
    "\n",
    "level = 0\n",
    "## <프로그래머스>다항식 더하기\n",
    "\n",
    "한 개 이상의 항의 합으로 이루어진 식을 다항식이라고 합니다. 다항식을 계산할 때는 동류항끼리 계산해 정리합니다. 덧셈으로 이루어진 다항식 polynomial이 매개변수로 주어질 때, 동류항끼리 더한 결괏값을 문자열로 return 하도록 solution 함수를 완성해보세요. 같은 식이라면 가장 짧은 수식을 return 합니다.\n",
    "\n",
    "```\n",
    "제한사항\n",
    "0 < polynomial에 있는 수 < 100\n",
    "\n",
    "polynomial에 변수는 'x'만 존재합니다.\n",
    "\n",
    "polynomial은 0부터 9까지의 정수, 공백, ‘x’, ‘+'로 이루어져 있습니다.\n",
    "\n",
    "항과 연산기호 사이에는 항상 공백이 존재합니다.\n",
    "\n",
    "공백은 연속되지 않으며 시작이나 끝에는 공백이 없습니다.\n",
    "\n",
    "하나의 항에서 변수가 숫자 앞에 오는 경우는 없습니다.\n",
    "\n",
    "\" + 3xx + + x7 + \"와 같은 잘못된 입력은 주어지지 않습니다.\n",
    "\n",
    "\"012x + 001\"처럼 0을 제외하고는 0으로 시작하는 수는 없습니다.\n",
    "\n",
    "문자와 숫자 사이의 곱하기는 생략합니다.\n",
    "\n",
    "polynomial에는 일차 항과 상수항만 존재합니다.\n",
    "\n",
    "계수 1은 생략합니다.\n",
    "\n",
    "결괏값에 상수항은 마지막에 둡니다.\n",
    "\n",
    "0 < polynomial의 길이 < 50\n",
    "```"
   ]
  },
  {
   "cell_type": "code",
   "execution_count": 75,
   "id": "756189c2",
   "metadata": {},
   "outputs": [
    {
     "data": {
      "text/plain": [
       "'3x + 9'"
      ]
     },
     "execution_count": 75,
     "metadata": {},
     "output_type": "execute_result"
    }
   ],
   "source": [
    "import re\n",
    "\n",
    "def solution(polynomial):\n",
    "    polynomial_li = [w for w in polynomial.split(' + ')]\n",
    "\n",
    "    x, num = 0, 0\n",
    "    for i in polynomial_li:\n",
    "        if i == 'x':\n",
    "            x += 1\n",
    "        elif 'x' in i:\n",
    "            x += int(re.search('\\d+', i).group(0) )\n",
    "        else:\n",
    "            num += int(i)\n",
    "    \n",
    "    if x == 1:\n",
    "        answer = f'x + {num}'\n",
    "    else:\n",
    "        answer = f'{x}x + {num}'\n",
    "    answer = answer.replace('0x + ', '')\n",
    "    answer = answer.replace(' + 0', '') \n",
    "    return answer\n",
    "\n",
    "solution('x + x + x + 0 + 9')"
   ]
  },
  {
   "cell_type": "markdown",
   "id": "7f4b8992",
   "metadata": {},
   "source": [
    "<b>2023/01/10</b>\n",
    "\n",
    "level = 1\n",
    "## 가장 가까운 같은 글자\n",
    "문제 설명\n",
    "문자열 s가 주어졌을 때, s의 각 위치마다 자신보다 앞에 나왔으면서, 자신과 가장 가까운 곳에 있는 같은 글자가 어디 있는지 알고 싶습니다.\n",
    "예를 들어, s=\"banana\"라고 할 때,  각 글자들을 왼쪽부터 오른쪽으로 읽어 나가면서 다음과 같이 진행할 수 있습니다.\n",
    "\n",
    "b는 처음 나왔기 때문에 자신의 앞에 같은 글자가 없습니다. 이는 -1로 표현합니다.\n",
    "a는 처음 나왔기 때문에 자신의 앞에 같은 글자가 없습니다. 이는 -1로 표현합니다.\n",
    "n은 처음 나왔기 때문에 자신의 앞에 같은 글자가 없습니다. 이는 -1로 표현합니다.\n",
    "a는 자신보다 두 칸 앞에 a가 있습니다. 이는 2로 표현합니다.\n",
    "n도 자신보다 두 칸 앞에 n이 있습니다. 이는 2로 표현합니다.\n",
    "a는 자신보다 두 칸, 네 칸 앞에 a가 있습니다. 이 중 가까운 것은 두 칸 앞이고, 이는 2로 표현합니다.\n",
    "따라서 최종 결과물은 [-1, -1, -1, 2, 2, 2]가 됩니다.\n",
    "\n",
    "문자열 s이 주어질 때, 위와 같이 정의된 연산을 수행하는 함수 solution을 완성해주세요.\n",
    "\n"
   ]
  },
  {
   "cell_type": "code",
   "execution_count": 190,
   "id": "fa29aa17",
   "metadata": {},
   "outputs": [
    {
     "data": {
      "text/plain": [
       "[-1, -1, -1, 2, 2, 2]"
      ]
     },
     "execution_count": 190,
     "metadata": {},
     "output_type": "execute_result"
    }
   ],
   "source": [
    "def solution(s):\n",
    "    return [-1 if s[:i].find(s[i]) < 0 else s[:i][::-1].find(s[i]) + 1 for i in range(len(s))]\n",
    "\n",
    "s = 'banana'\n",
    "solution(s)"
   ]
  },
  {
   "cell_type": "code",
   "execution_count": null,
   "id": "1dfd34fb",
   "metadata": {},
   "outputs": [],
   "source": []
  },
  {
   "cell_type": "code",
   "execution_count": null,
   "id": "ba7ce4d0",
   "metadata": {},
   "outputs": [],
   "source": []
  },
  {
   "cell_type": "code",
   "execution_count": null,
   "id": "4579fae4",
   "metadata": {},
   "outputs": [],
   "source": []
  }
 ],
 "metadata": {
  "kernelspec": {
   "display_name": "Python 3 (ipykernel)",
   "language": "python",
   "name": "python3"
  },
  "language_info": {
   "codemirror_mode": {
    "name": "ipython",
    "version": 3
   },
   "file_extension": ".py",
   "mimetype": "text/x-python",
   "name": "python",
   "nbconvert_exporter": "python",
   "pygments_lexer": "ipython3",
   "version": "3.8.13"
  },
  "toc": {
   "base_numbering": 1,
   "nav_menu": {},
   "number_sections": true,
   "sideBar": true,
   "skip_h1_title": false,
   "title_cell": "Table of Contents",
   "title_sidebar": "Contents",
   "toc_cell": false,
   "toc_position": {},
   "toc_section_display": true,
   "toc_window_display": false
  }
 },
 "nbformat": 4,
 "nbformat_minor": 5
}
