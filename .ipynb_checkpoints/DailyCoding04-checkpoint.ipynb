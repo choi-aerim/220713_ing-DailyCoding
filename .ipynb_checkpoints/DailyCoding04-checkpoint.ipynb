{
 "cells": [
  {
   "cell_type": "markdown",
   "id": "4f7e5510",
   "metadata": {},
   "source": [
    "<b>2023/01/11</b>\n",
    "\n",
    "level = 1\n",
    "## <프로그래머스> 로또 등수\n",
    "로또 6/45(이하 '로또'로 표기)는 1부터 45까지의 숫자 중 6개를 찍어서 맞히는 대표적인 복권입니다. 아래는 로또의 순위를 정하는 방식입니다. 1\n",
    "```\n",
    "순위\t당첨 내용\n",
    "1\t6개 번호가 모두 일치\n",
    "2\t5개 번호가 일치\n",
    "3\t4개 번호가 일치\n",
    "4\t3개 번호가 일치\n",
    "5\t2개 번호가 일치\n",
    "6   (낙첨)\t그 외\n",
    "```\n",
    "로또를 구매한 민우는 당첨 번호 발표일을 학수고대하고 있었습니다. 하지만, 민우의 동생이 로또에 낙서를 하여, 일부 번호를 알아볼 수 없게 되었습니다. 당첨 번호 발표 후, 민우는 자신이 구매했던 로또로 당첨이 가능했던 최고 순위와 최저 순위를 알아보고 싶어 졌습니다.\n",
    "알아볼 수 없는 번호를 0으로 표기하기로 하고, 민우가 구매한 로또 번호 6개가 44, 1, 0, 0, 31 25라고 가정해보겠습니다. 당첨 번호 6개가 31, 10, 45, 1, 6, 19라면, 당첨 가능한 최고 순위와 최저 순위의 한 예는 아래와 같습니다.\n",
    "```\n",
    "당첨 번호\t31\t10\t45\t1\t6\t19\t결과\n",
    "최고 순위 번호\t31\t0→10\t44\t1\t0→6\t25\t4개 번호 일치, 3등\n",
    "최저 순위 번호\t31\t0→11\t44\t1\t0→7\t25\t2개 번호 일치, 5등\n",
    "```\n",
    "순서와 상관없이, 구매한 로또에 당첨 번호와 일치하는 번호가 있으면 맞힌 걸로 인정됩니다.\n",
    "알아볼 수 없는 두 개의 번호를 각각 10, 6이라고 가정하면 3등에 당첨될 수 있습니다.\n",
    "3등을 만드는 다른 방법들도 존재합니다. 하지만, 2등 이상으로 만드는 것은 불가능합니다.\n",
    "알아볼 수 없는 두 개의 번호를 각각 11, 7이라고 가정하면 5등에 당첨될 수 있습니다.\n",
    "5등을 만드는 다른 방법들도 존재합니다. 하지만, 6등(낙첨)으로 만드는 것은 불가능합니다.\n",
    "민우가 구매한 로또 번호를 담은 배열 lottos, 당첨 번호를 담은 배열 win_nums가 매개변수로 주어집니다. 이때, 당첨 가능한 최고 순위와 최저 순위를 차례대로 배열에 담아서 return 하도록 solution 함수를 완성해주세요.\n",
    "\n",
    "제한사항\n",
    "lottos는 길이 6인 정수 배열입니다.\n",
    "lottos의 모든 원소는 0 이상 45 이하인 정수입니다.\n",
    "0은 알아볼 수 없는 숫자를 의미합니다.\n",
    "0을 제외한 다른 숫자들은 lottos에 2개 이상 담겨있지 않습니다.\n",
    "lottos의 원소들은 정렬되어 있지 않을 수도 있습니다.\n",
    "win_nums은 길이 6인 정수 배열입니다.\n",
    "win_nums의 모든 원소는 1 이상 45 이하인 정수입니다.\n",
    "win_nums에는 같은 숫자가 2개 이상 담겨있지 않습니다.\n",
    "win_nums의 원소들은 정렬되어 있지 않을 수도 있습니다.\n"
   ]
  },
  {
   "cell_type": "code",
   "execution_count": 20,
   "id": "600a54ce",
   "metadata": {},
   "outputs": [],
   "source": [
    "lottos = [0, 0, 0, 0, 0, 0]\n",
    "win_numbers = [38, 19, 20, 40, 15, 25]"
   ]
  },
  {
   "cell_type": "code",
   "execution_count": 24,
   "id": "a5a952a1",
   "metadata": {},
   "outputs": [
    {
     "name": "stdout",
     "output_type": "stream",
     "text": [
      "[1, 6]\n"
     ]
    },
    {
     "data": {
      "text/plain": [
       "[1, 6]"
      ]
     },
     "execution_count": 24,
     "metadata": {},
     "output_type": "execute_result"
    }
   ],
   "source": [
    "# 방법1\n",
    "def solution(lottos, win_nums):\n",
    "    big_cnt, small_cnt = 0, 0\n",
    "    for i in lottos:\n",
    "        if i in win_nums:\n",
    "            small_cnt += 1\n",
    "            big_cnt += 1\n",
    "        elif i == 0 and big_cnt < 6:\n",
    "            big_cnt += 1\n",
    "        \n",
    "    return [7 - i if i >1 else 6 for i in [big_cnt, small_cnt]]\n",
    "\n",
    "print(solution(lottos, win_numbers))\n",
    "\n",
    "\n",
    "# 방법2\n",
    "def solution(lottos, win_numbers):\n",
    "    rank = { 0: 6, 1: 6, 2: 5, 3: 4, 4: 3, 5: 2, 6: 1}\n",
    "    return [rank[len(set(lottos) & set(win_numbers)) + lottos.count(0)], rank[len(set(lottos) & set(win_numbers))]]\n",
    "\n",
    "solution(lottos, win_numbers)"
   ]
  },
  {
   "cell_type": "markdown",
   "id": "9b2beee0",
   "metadata": {},
   "source": [
    "2023/01/11\n",
    "\n",
    "level = 1\n",
    "## <프로그래머스> 과일 장수\n",
    "\n",
    "과일 장수가 사과 상자를 포장하고 있습니다. 사과는 상태에 따라 1점부터 k점까지의 점수로 분류하며, k점이 최상품의 사과이고 1점이 최하품의 사과입니다. 사과 한 상자의 가격은 다음과 같이 결정됩니다.\n",
    "\n",
    "한 상자에 사과를 m개씩 담아 포장합니다.\n",
    "상자에 담긴 사과 중 가장 낮은 점수가 p (1 ≤ p ≤ k)점인 경우, 사과 한 상자의 가격은 p * m 입니다.\n",
    "과일 장수가 가능한 많은 사과를 팔았을 때, 얻을 수 있는 최대 이익을 계산하고자 합니다.(사과는 상자 단위로만 판매하며, 남는 사과는 버립니다)\n",
    "\n",
    "예를 들어, k = 3, m = 4, 사과 7개의 점수가 [1, 2, 3, 1, 2, 3, 1]이라면, 다음과 같이 [2, 3, 2, 3]으로 구성된 사과 상자 1개를 만들어 판매하여 최대 이익을 얻을 수 있습니다.\n",
    "\n",
    "(최저 사과 점수) x (한 상자에 담긴 사과 개수) x (상자의 개수) = 2 x 4 x 1 = 8\n",
    "사과의 최대 점수 k, 한 상자에 들어가는 사과의 수 m, 사과들의 점수 score가 주어졌을 때, 과일 장수가 얻을 수 있는 최대 이익을 return하는 solution 함수를 완성해주세요."
   ]
  },
  {
   "cell_type": "code",
   "execution_count": 37,
   "id": "a47cf5a9",
   "metadata": {},
   "outputs": [],
   "source": [
    "k, m, score = 4, 3, [4, 1, 2, 2, 4, 4, 4, 4, 1, 2, 4, 2] #33"
   ]
  },
  {
   "cell_type": "code",
   "execution_count": 44,
   "id": "748e32a2",
   "metadata": {},
   "outputs": [
    {
     "name": "stdout",
     "output_type": "stream",
     "text": [
      "33\n",
      "33\n"
     ]
    }
   ],
   "source": [
    "# 방법1\n",
    "def solution(k, m, score):\n",
    "    score.sort(reverse = True)\n",
    "    boxes = [score[m*i: m*(i + 1)] for i in range(len(score)//m) ]\n",
    "    return sum([box[-1] * m for box in boxes])\n",
    "\n",
    "print(solution(k, m, score))\n",
    "\n",
    "\n",
    "# 방법2\n",
    "def solution(k, m, score):\n",
    "    return sum(sorted(score, reverse = True)[m-1::m])*m\n",
    "\n",
    "print(solution(k, m, score))"
   ]
  },
  {
   "cell_type": "markdown",
   "id": "bd2818a8",
   "metadata": {},
   "source": [
    "2023/01/11\n",
    "\n",
    "level = 1\n",
    "## 개인정보 수집 유효기간\n",
    "문제 설명\n",
    "고객의 약관 동의를 얻어서 수집된 1~n번으로 분류되는 개인정보 n개가 있습니다. 약관 종류는 여러 가지 있으며 각 약관마다 개인정보 보관 유효기간이 정해져 있습니다. 당신은 각 개인정보가 어떤 약관으로 수집됐는지 알고 있습니다. 수집된 개인정보는 유효기간 전까지만 보관 가능하며, 유효기간이 지났다면 반드시 파기해야 합니다.\n",
    "\n",
    "예를 들어, A라는 약관의 유효기간이 12 달이고, 2021년 1월 5일에 수집된 개인정보가 A약관으로 수집되었다면 해당 개인정보는 2022년 1월 4일까지 보관 가능하며 2022년 1월 5일부터 파기해야 할 개인정보입니다.\n",
    "당신은 오늘 날짜로 파기해야 할 개인정보 번호들을 구하려 합니다.\n",
    "\n",
    "모든 달은 28일까지 있다고 가정합니다.\n",
    "\n",
    "다음은 오늘 날짜가 2022.05.19일 때의 예시입니다.\n",
    "```\n",
    "약관 종류\t유효기간\n",
    "    A\t6 달\n",
    "    B\t12 달\n",
    "    C\t3 달\n",
    "\n",
    "번호\t개인정보 수집 일자\t약관 종류\n",
    "1\t      2021.05.02\t  A\n",
    "2\t      2021.07.01\t  B\n",
    "3         2022.02.19\t  C\n",
    "4\t      2022.02.20\t  C\n",
    "```\n",
    "\n",
    "첫 번째 개인정보는 A약관에 의해 2021년 11월 1일까지 보관 가능하며, 유효기간이 지났으므로 파기해야 할 개인정보입니다.<br>\n",
    "두 번째 개인정보는 B약관에 의해 2022년 6월 28일까지 보관 가능하며, 유효기간이 지나지 않았으므로 아직 보관 가능합니다.<br>\n",
    "세 번째 개인정보는 C약관에 의해 2022년 5월 18일까지 보관 가능하며, 유효기간이 지났으므로 파기해야 할 개인정보입니다.<br>\n",
    "네 번째 개인정보는 C약관에 의해 2022년 5월 19일까지 보관 가능하며, 유효기간이 지나지 않았으므로 아직 보관 가능합니다.<br>\n",
    "따라서 파기해야 할 개인정보 번호는 [1, 3]입니다.<br>\n",
    "<br>\n",
    "오늘 날짜를 의미하는 문자열 today, 약관의 유효기간을 담은 1차원 문자열 배열 terms와 수집된 개인정보의 정보를 담은 1차원 문자열 배열 privacies가 매개변수로 주어집니다. 이때 파기해야 할 개인정보의 번호를 오름차순으로 1차원 정수 배열에 담아 return 하도록 solution 함수를 완성해 주세요.\n",
    "\n",
    "```                \n",
    "today                     terms                    privacies                                               answer\n",
    "\"2022.05.19\"\t[\"A 6\", \"B 12\", \"C 3\"]\t[\"2021.05.02 A\", \"2021.07.01 B\", \"2022.02.19 C\", \"2022.02.20 C\"]\t[1, 3]\n",
    "\"2020.01.01\"\t[\"Z 3\", \"D 5\"]\t[\"2019.01.01 D\", \"2019.11.15 Z\", \"2019.08.02 D\", \"2019.07.01 D\", \"2018.12.28 Z\"]\t[1, 4, 5]\n",
    "```"
   ]
  },
  {
   "cell_type": "code",
   "execution_count": 161,
   "id": "9707c74d",
   "metadata": {},
   "outputs": [
    {
     "data": {
      "text/plain": [
       "[1, 4, 5]"
      ]
     },
     "execution_count": 161,
     "metadata": {},
     "output_type": "execute_result"
    }
   ],
   "source": [
    "today = \"2020.01.01\"\n",
    "terms = [\"Z 3\", \"D 5\"]\n",
    "privacies = [\"2019.01.01 D\", \"2019.11.15 Z\", \"2019.08.02 D\", \"2019.07.01 D\", \"2018.12.28 Z\"]\n",
    "# today = \"2022.05.19\" \n",
    "# terms = [\"A 6\", \"B 12\", \"C 3\"]\n",
    "# privacies = [\"2021.05.02 A\", \"2021.07.01 B\", \"2022.02.19 C\", \"2022.02.20 C\"]\n",
    "\n",
    "import numpy as np\n",
    "\n",
    "def solution(today, terms, privacies):\n",
    "    today = today.split('.')\n",
    "    terms = [i for term in terms for i in term.split()]\n",
    "\n",
    "    cnt = 0\n",
    "    delete_li = []\n",
    "\n",
    "    for date, i in [privacy.split() for privacy in privacies]:\n",
    "        cnt += 1\n",
    "        year, month, day = list(map(int, date.split('.')))\n",
    "\n",
    "        plus = int(terms[terms.index(i) + 1])\n",
    "        if day == 1: \n",
    "            plus -= 1\n",
    "            day = 28\n",
    "        else:\n",
    "            day -= 1\n",
    "\n",
    "        year += (month + plus - 1) // 12\n",
    "        month = np.arange(1,13)[(month + plus) % 12 - 1]\n",
    "\n",
    "        if len(str(month)) == 1:\n",
    "            month = '0' + str(month)\n",
    "        if len(str(day)) == 1:\n",
    "            day = '0' + str(day)\n",
    "\n",
    "        if int(str(year) + str(month) + str(day)) < int(''.join(today)):\n",
    "            delete_li.append(cnt)\n",
    "\n",
    "    return delete_li\n",
    "\n",
    "solution(today, terms, privacies)"
   ]
  },
  {
   "cell_type": "code",
   "execution_count": null,
   "id": "9411cde4",
   "metadata": {},
   "outputs": [],
   "source": []
  },
  {
   "cell_type": "code",
   "execution_count": null,
   "id": "103c9018",
   "metadata": {},
   "outputs": [],
   "source": []
  },
  {
   "cell_type": "code",
   "execution_count": null,
   "id": "9411dfa2",
   "metadata": {},
   "outputs": [],
   "source": []
  },
  {
   "cell_type": "code",
   "execution_count": null,
   "id": "1b58fe47",
   "metadata": {},
   "outputs": [],
   "source": []
  }
 ],
 "metadata": {
  "kernelspec": {
   "display_name": "Python 3 (ipykernel)",
   "language": "python",
   "name": "python3"
  },
  "language_info": {
   "codemirror_mode": {
    "name": "ipython",
    "version": 3
   },
   "file_extension": ".py",
   "mimetype": "text/x-python",
   "name": "python",
   "nbconvert_exporter": "python",
   "pygments_lexer": "ipython3",
   "version": "3.8.13"
  },
  "toc": {
   "base_numbering": 1,
   "nav_menu": {},
   "number_sections": true,
   "sideBar": true,
   "skip_h1_title": false,
   "title_cell": "Table of Contents",
   "title_sidebar": "Contents",
   "toc_cell": false,
   "toc_position": {},
   "toc_section_display": true,
   "toc_window_display": false
  }
 },
 "nbformat": 4,
 "nbformat_minor": 5
}
