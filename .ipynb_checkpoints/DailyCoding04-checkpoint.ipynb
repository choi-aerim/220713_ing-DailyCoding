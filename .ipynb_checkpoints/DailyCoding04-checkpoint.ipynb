{
 "cells": [
  {
   "cell_type": "markdown",
   "id": "4f7e5510",
   "metadata": {},
   "source": [
    "<b>2023/01/11</b>\n",
    "\n",
    "level = 1\n",
    "## <프로그래머스> 로또 등수\n",
    "로또 6/45(이하 '로또'로 표기)는 1부터 45까지의 숫자 중 6개를 찍어서 맞히는 대표적인 복권입니다. 아래는 로또의 순위를 정하는 방식입니다. 1\n",
    "```\n",
    "순위\t당첨 내용\n",
    "1\t6개 번호가 모두 일치\n",
    "2\t5개 번호가 일치\n",
    "3\t4개 번호가 일치\n",
    "4\t3개 번호가 일치\n",
    "5\t2개 번호가 일치\n",
    "6   (낙첨)\t그 외\n",
    "```\n",
    "로또를 구매한 민우는 당첨 번호 발표일을 학수고대하고 있었습니다. 하지만, 민우의 동생이 로또에 낙서를 하여, 일부 번호를 알아볼 수 없게 되었습니다. 당첨 번호 발표 후, 민우는 자신이 구매했던 로또로 당첨이 가능했던 최고 순위와 최저 순위를 알아보고 싶어 졌습니다.\n",
    "알아볼 수 없는 번호를 0으로 표기하기로 하고, 민우가 구매한 로또 번호 6개가 44, 1, 0, 0, 31 25라고 가정해보겠습니다. 당첨 번호 6개가 31, 10, 45, 1, 6, 19라면, 당첨 가능한 최고 순위와 최저 순위의 한 예는 아래와 같습니다.\n",
    "```\n",
    "당첨 번호\t31\t10\t45\t1\t6\t19\t결과\n",
    "최고 순위 번호\t31\t0→10\t44\t1\t0→6\t25\t4개 번호 일치, 3등\n",
    "최저 순위 번호\t31\t0→11\t44\t1\t0→7\t25\t2개 번호 일치, 5등\n",
    "```\n",
    "순서와 상관없이, 구매한 로또에 당첨 번호와 일치하는 번호가 있으면 맞힌 걸로 인정됩니다.\n",
    "알아볼 수 없는 두 개의 번호를 각각 10, 6이라고 가정하면 3등에 당첨될 수 있습니다.\n",
    "3등을 만드는 다른 방법들도 존재합니다. 하지만, 2등 이상으로 만드는 것은 불가능합니다.\n",
    "알아볼 수 없는 두 개의 번호를 각각 11, 7이라고 가정하면 5등에 당첨될 수 있습니다.\n",
    "5등을 만드는 다른 방법들도 존재합니다. 하지만, 6등(낙첨)으로 만드는 것은 불가능합니다.\n",
    "민우가 구매한 로또 번호를 담은 배열 lottos, 당첨 번호를 담은 배열 win_nums가 매개변수로 주어집니다. 이때, 당첨 가능한 최고 순위와 최저 순위를 차례대로 배열에 담아서 return 하도록 solution 함수를 완성해주세요.\n",
    "\n",
    "제한사항\n",
    "lottos는 길이 6인 정수 배열입니다.\n",
    "lottos의 모든 원소는 0 이상 45 이하인 정수입니다.\n",
    "0은 알아볼 수 없는 숫자를 의미합니다.\n",
    "0을 제외한 다른 숫자들은 lottos에 2개 이상 담겨있지 않습니다.\n",
    "lottos의 원소들은 정렬되어 있지 않을 수도 있습니다.\n",
    "win_nums은 길이 6인 정수 배열입니다.\n",
    "win_nums의 모든 원소는 1 이상 45 이하인 정수입니다.\n",
    "win_nums에는 같은 숫자가 2개 이상 담겨있지 않습니다.\n",
    "win_nums의 원소들은 정렬되어 있지 않을 수도 있습니다.\n"
   ]
  },
  {
   "cell_type": "code",
   "execution_count": 20,
   "id": "600a54ce",
   "metadata": {},
   "outputs": [],
   "source": [
    "lottos = [0, 0, 0, 0, 0, 0]\n",
    "win_numbers = [38, 19, 20, 40, 15, 25]"
   ]
  },
  {
   "cell_type": "code",
   "execution_count": 24,
   "id": "a5a952a1",
   "metadata": {},
   "outputs": [
    {
     "name": "stdout",
     "output_type": "stream",
     "text": [
      "[1, 6]\n"
     ]
    },
    {
     "data": {
      "text/plain": [
       "[1, 6]"
      ]
     },
     "execution_count": 24,
     "metadata": {},
     "output_type": "execute_result"
    }
   ],
   "source": [
    "# 방법1\n",
    "def solution(lottos, win_nums):\n",
    "    big_cnt, small_cnt = 0, 0\n",
    "    for i in lottos:\n",
    "        if i in win_nums:\n",
    "            small_cnt += 1\n",
    "            big_cnt += 1\n",
    "        elif i == 0 and big_cnt < 6:\n",
    "            big_cnt += 1\n",
    "        \n",
    "    return [7 - i if i >1 else 6 for i in [big_cnt, small_cnt]]\n",
    "\n",
    "print(solution(lottos, win_numbers))\n",
    "\n",
    "\n",
    "# 방법2\n",
    "def solution(lottos, win_numbers):\n",
    "    rank = { 0: 6, 1: 6, 2: 5, 3: 4, 4: 3, 5: 2, 6: 1}\n",
    "    return [rank[len(set(lottos) & set(win_numbers)) + lottos.count(0)], rank[len(set(lottos) & set(win_numbers))]]\n",
    "\n",
    "solution(lottos, win_numbers)"
   ]
  },
  {
   "cell_type": "markdown",
   "id": "9b2beee0",
   "metadata": {},
   "source": [
    "2023/01/11\n",
    "\n",
    "level = 1\n",
    "## <프로그래머스> 과일 장수\n",
    "\n",
    "과일 장수가 사과 상자를 포장하고 있습니다. 사과는 상태에 따라 1점부터 k점까지의 점수로 분류하며, k점이 최상품의 사과이고 1점이 최하품의 사과입니다. 사과 한 상자의 가격은 다음과 같이 결정됩니다.\n",
    "\n",
    "한 상자에 사과를 m개씩 담아 포장합니다.\n",
    "상자에 담긴 사과 중 가장 낮은 점수가 p (1 ≤ p ≤ k)점인 경우, 사과 한 상자의 가격은 p * m 입니다.\n",
    "과일 장수가 가능한 많은 사과를 팔았을 때, 얻을 수 있는 최대 이익을 계산하고자 합니다.(사과는 상자 단위로만 판매하며, 남는 사과는 버립니다)\n",
    "\n",
    "예를 들어, k = 3, m = 4, 사과 7개의 점수가 [1, 2, 3, 1, 2, 3, 1]이라면, 다음과 같이 [2, 3, 2, 3]으로 구성된 사과 상자 1개를 만들어 판매하여 최대 이익을 얻을 수 있습니다.\n",
    "\n",
    "(최저 사과 점수) x (한 상자에 담긴 사과 개수) x (상자의 개수) = 2 x 4 x 1 = 8\n",
    "사과의 최대 점수 k, 한 상자에 들어가는 사과의 수 m, 사과들의 점수 score가 주어졌을 때, 과일 장수가 얻을 수 있는 최대 이익을 return하는 solution 함수를 완성해주세요."
   ]
  },
  {
   "cell_type": "code",
   "execution_count": 37,
   "id": "a47cf5a9",
   "metadata": {},
   "outputs": [],
   "source": [
    "k, m, score = 4, 3, [4, 1, 2, 2, 4, 4, 4, 4, 1, 2, 4, 2] #33"
   ]
  },
  {
   "cell_type": "code",
   "execution_count": 44,
   "id": "748e32a2",
   "metadata": {},
   "outputs": [
    {
     "name": "stdout",
     "output_type": "stream",
     "text": [
      "33\n",
      "33\n"
     ]
    }
   ],
   "source": [
    "# 방법1\n",
    "def solution(k, m, score):\n",
    "    score.sort(reverse = True)\n",
    "    boxes = [score[m*i: m*(i + 1)] for i in range(len(score)//m) ]\n",
    "    return sum([box[-1] * m for box in boxes])\n",
    "\n",
    "print(solution(k, m, score))\n",
    "\n",
    "\n",
    "# 방법2\n",
    "def solution(k, m, score):\n",
    "    return sum(sorted(score, reverse = True)[m-1::m])*m\n",
    "\n",
    "print(solution(k, m, score))"
   ]
  },
  {
   "cell_type": "markdown",
   "id": "0c950594",
   "metadata": {},
   "source": [
    "2023/01/12\n",
    "\n",
    "level = 1\n",
    "## 개인정보 수집 유효기간\n",
    "문제 설명\n",
    "고객의 약관 동의를 얻어서 수집된 1~n번으로 분류되는 개인정보 n개가 있습니다. 약관 종류는 여러 가지 있으며 각 약관마다 개인정보 보관 유효기간이 정해져 있습니다. 당신은 각 개인정보가 어떤 약관으로 수집됐는지 알고 있습니다. 수집된 개인정보는 유효기간 전까지만 보관 가능하며, 유효기간이 지났다면 반드시 파기해야 합니다.\n",
    "\n",
    "예를 들어, A라는 약관의 유효기간이 12 달이고, 2021년 1월 5일에 수집된 개인정보가 A약관으로 수집되었다면 해당 개인정보는 2022년 1월 4일까지 보관 가능하며 2022년 1월 5일부터 파기해야 할 개인정보입니다.\n",
    "당신은 오늘 날짜로 파기해야 할 개인정보 번호들을 구하려 합니다.\n",
    "\n",
    "모든 달은 28일까지 있다고 가정합니다.\n",
    "\n",
    "다음은 오늘 날짜가 2022.05.19일 때의 예시입니다.\n",
    "```\n",
    "약관 종류\t유효기간\n",
    "    A\t6 달\n",
    "    B\t12 달\n",
    "    C\t3 달\n",
    "\n",
    "번호\t개인정보 수집 일자\t약관 종류\n",
    "1\t      2021.05.02\t  A\n",
    "2\t      2021.07.01\t  B\n",
    "3         2022.02.19\t  C\n",
    "4\t      2022.02.20\t  C\n",
    "```\n",
    "\n",
    "첫 번째 개인정보는 A약관에 의해 2021년 11월 1일까지 보관 가능하며, 유효기간이 지났으므로 파기해야 할 개인정보입니다.<br>\n",
    "두 번째 개인정보는 B약관에 의해 2022년 6월 28일까지 보관 가능하며, 유효기간이 지나지 않았으므로 아직 보관 가능합니다.<br>\n",
    "세 번째 개인정보는 C약관에 의해 2022년 5월 18일까지 보관 가능하며, 유효기간이 지났으므로 파기해야 할 개인정보입니다.<br>\n",
    "네 번째 개인정보는 C약관에 의해 2022년 5월 19일까지 보관 가능하며, 유효기간이 지나지 않았으므로 아직 보관 가능합니다.<br>\n",
    "따라서 파기해야 할 개인정보 번호는 [1, 3]입니다.<br>\n",
    "<br>\n",
    "오늘 날짜를 의미하는 문자열 today, 약관의 유효기간을 담은 1차원 문자열 배열 terms와 수집된 개인정보의 정보를 담은 1차원 문자열 배열 privacies가 매개변수로 주어집니다. 이때 파기해야 할 개인정보의 번호를 오름차순으로 1차원 정수 배열에 담아 return 하도록 solution 함수를 완성해 주세요.\n",
    "\n",
    "```                \n",
    "today                     terms                    privacies                                               answer\n",
    "\"2022.05.19\"\t[\"A 6\", \"B 12\", \"C 3\"]\t[\"2021.05.02 A\", \"2021.07.01 B\", \"2022.02.19 C\", \"2022.02.20 C\"]\t[1, 3]\n",
    "\"2020.01.01\"\t[\"Z 3\", \"D 5\"]\t[\"2019.01.01 D\", \"2019.11.15 Z\", \"2019.08.02 D\", \"2019.07.01 D\", \"2018.12.28 Z\"]\t[1, 4, 5]\n",
    "```"
   ]
  },
  {
   "cell_type": "code",
   "execution_count": 161,
   "id": "7be4775b",
   "metadata": {},
   "outputs": [
    {
     "data": {
      "text/plain": [
       "[1, 4, 5]"
      ]
     },
     "execution_count": 161,
     "metadata": {},
     "output_type": "execute_result"
    }
   ],
   "source": [
    "today = \"2020.01.01\"\n",
    "terms = [\"Z 3\", \"D 5\"]\n",
    "privacies = [\"2019.01.01 D\", \"2019.11.15 Z\", \"2019.08.02 D\", \"2019.07.01 D\", \"2018.12.28 Z\"]\n",
    "# today = \"2022.05.19\" \n",
    "# terms = [\"A 6\", \"B 12\", \"C 3\"]\n",
    "# privacies = [\"2021.05.02 A\", \"2021.07.01 B\", \"2022.02.19 C\", \"2022.02.20 C\"]\n",
    "\n",
    "import numpy as np\n",
    "\n",
    "def solution(today, terms, privacies):\n",
    "    today = today.split('.')\n",
    "    terms = [i for term in terms for i in term.split()]\n",
    "\n",
    "    cnt = 0\n",
    "    delete_li = []\n",
    "\n",
    "    for date, i in [privacy.split() for privacy in privacies]:\n",
    "        cnt += 1\n",
    "        year, month, day = list(map(int, date.split('.')))\n",
    "\n",
    "        plus = int(terms[terms.index(i) + 1])\n",
    "        if day == 1: \n",
    "            plus -= 1\n",
    "            day = 28\n",
    "        else:\n",
    "            day -= 1\n",
    "\n",
    "        year += (month + plus - 1) // 12\n",
    "        month = np.arange(1,13)[(month + plus) % 12 - 1]\n",
    "\n",
    "        if len(str(month)) == 1:\n",
    "            month = '0' + str(month)\n",
    "        if len(str(day)) == 1:\n",
    "            day = '0' + str(day)\n",
    "\n",
    "        if int(str(year) + str(month) + str(day)) < int(''.join(today)):\n",
    "            delete_li.append(cnt)\n",
    "\n",
    "    return delete_li\n",
    "\n",
    "solution(today, terms, privacies)"
   ]
  },
  {
   "cell_type": "markdown",
   "id": "9e444cc1",
   "metadata": {},
   "source": [
    "2023/01/16\n",
    "level = 1\n",
    "### <프로그래머스> 숫자 짝꿍\n",
    "\n",
    "두 정수 X, Y의 임의의 자리에서 공통으로 나타나는 정수 k(0 ≤ k ≤ 9)들을 이용하여 만들 수 있는 가장 큰 정수를 두 수의 짝꿍이라 합니다(단, 공통으로 나타나는 정수 중 서로 짝지을 수 있는 숫자만 사용합니다). X, Y의 짝꿍이 존재하지 않으면, 짝꿍은 -1입니다. X, Y의 짝꿍이 0으로만 구성되어 있다면, 짝꿍은 0입니다.\n",
    "\n",
    "예를 들어, X = 3403이고 Y = 13203이라면, X와 Y의 짝꿍은 X와 Y에서 공통으로 나타나는 3, 0, 3으로 만들 수 있는 가장 큰 정수인 330입니다. 다른 예시로 X = 5525이고 Y = 1255이면 X와 Y의 짝꿍은 X와 Y에서 공통으로 나타나는 2, 5, 5로 만들 수 있는 가장 큰 정수인 552입니다(X에는 5가 3개, Y에는 5가 2개 나타나므로 남는 5 한 개는 짝 지을 수 없습니다.)\n",
    "두 정수 X, Y가 주어졌을 때, X, Y의 짝꿍을 return하는 solution 함수를 완성해주세요.\n",
    "```\n",
    "제한사항\n",
    "3 ≤ X, Y의 길이(자릿수) ≤ 3,000,000입니다.\n",
    "X, Y는 0으로 시작하지 않습니다.\n",
    "X, Y의 짝꿍은 상당히 큰 정수일 수 있으므로, 문자열로 반환합니다.\n",
    "\n",
    "입출력 예\n",
    "    X\t   Y\t result\n",
    "\"100\"\t\"2345\"\t    \"-1\"\n",
    "\"100\"\t\"203045\"\t\"0\"\n",
    "\"100\"\t\"123450\"\t\"10\"\n",
    "\"12321\"\t\"42531\"\t    \"321\"\n",
    "\"5525\"\t\"1255\"\t    \"552\"\n",
    "```"
   ]
  },
  {
   "cell_type": "code",
   "execution_count": 74,
   "id": "8107a06a",
   "metadata": {
    "scrolled": true
   },
   "outputs": [
    {
     "data": {
      "text/plain": [
       "'321'"
      ]
     },
     "execution_count": 74,
     "metadata": {},
     "output_type": "execute_result"
    }
   ],
   "source": [
    "from collections import defaultdict\n",
    "\n",
    "def solution(X, Y):\n",
    "    # value값을 int로 받음\n",
    "    x = defaultdict(int)\n",
    "    y = defaultdict(int)\n",
    "\n",
    "    for i in X:\n",
    "        x[i] += 1\n",
    "    for i in Y:\n",
    "        y[i] += 1\n",
    "\n",
    "    xy = set(x) & set(y)\n",
    "\n",
    "    answer = ''\n",
    "    for i in xy:\n",
    "        answer += i * min(x[i], y[i])\n",
    "    \n",
    "    answer = ''.join(sorted(answer, reverse = True))\n",
    "    \n",
    "    if answer == '':\n",
    "        return '-1'\n",
    "    \n",
    "    if answer[0] == '0':\n",
    "        return '0'\n",
    "    \n",
    "    return answer\n",
    "\n",
    "solution(\"100\", \"2345\")\n",
    "solution(\"12321\", \"42531\")"
   ]
  },
  {
   "cell_type": "markdown",
   "id": "75b4fdd8",
   "metadata": {},
   "source": [
    "2023/01/16\n",
    "level = 1\n",
    "### <프로그래머스> [카카오 인턴] 키패드 누르기\n",
    "\n",
    "스마트폰 전화 키패드의 각 칸에 다음과 같이 숫자들이 적혀 있습니다.\n",
    "\n",
    "<img src = 'https://grepp-programmers.s3.ap-northeast-2.amazonaws.com/files/production/4b69a271-5f4a-4bf4-9ebf-6ebed5a02d8d/kakao_phone1.png' width = \"30%\">\n",
    "\n",
    "```\n",
    "이 전화 키패드에서 왼손과 오른손의 엄지손가락만을 이용해서 숫자만을 입력하려고 합니다.\n",
    "맨 처음 왼손 엄지손가락은 * 키패드에 오른손 엄지손가락은 # 키패드 위치에서 시작하며, 엄지손가락을 사용하는 규칙은 다음과 같습니다.\n",
    "\n",
    "엄지손가락은 상하좌우 4가지 방향으로만 이동할 수 있으며 키패드 이동 한 칸은 거리로 1에 해당합니다.\n",
    "왼쪽 열의 3개의 숫자 1, 4, 7을 입력할 때는 왼손 엄지손가락을 사용합니다.\n",
    "오른쪽 열의 3개의 숫자 3, 6, 9를 입력할 때는 오른손 엄지손가락을 사용합니다.\n",
    "가운데 열의 4개의 숫자 2, 5, 8, 0을 입력할 때는 두 엄지손가락의 현재 키패드의 위치에서 더 가까운 엄지손가락을 사용합니다.\n",
    "4-1. 만약 두 엄지손가락의 거리가 같다면, 오른손잡이는 오른손 엄지손가락, 왼손잡이는 왼손 엄지손가락을 사용합니다.\n",
    "순서대로 누를 번호가 담긴 배열 numbers, 왼손잡이인지 오른손잡이인 지를 나타내는 문자열 hand가 매개변수로 주어질 때, 각 번호를 누른 엄지손가락이 왼손인 지 오른손인 지를 나타내는 연속된 문자열 형태로 return 하도록 solution 함수를 완성해주세요.\n",
    "\n",
    "[제한사항]\n",
    "numbers 배열의 크기는 1 이상 1,000 이하입니다.\n",
    "numbers 배열 원소의 값은 0 이상 9 이하인 정수입니다.\n",
    "hand는 \"left\" 또는 \"right\" 입니다.\n",
    "\"left\"는 왼손잡이, \"right\"는 오른손잡이를 의미합니다.\n",
    "왼손 엄지손가락을 사용한 경우는 L, 오른손 엄지손가락을 사용한 경우는 R을 순서대로 이어붙여 문자열 형태로 return 해주세요.\n",
    "\n",
    "[입/출력 결과]\n",
    "[1, 3, 4, 5, 8, 2, 1, 4, 5, 9, 5]\t\"right\"\t\"LRLLLRLLRRL\"\n",
    "[7, 0, 8, 2, 8, 3, 1, 5, 7, 6, 2]\t\"left\"\t\"LRLLRRLLLRR\"\n",
    "[1, 2, 3, 4, 5, 6, 7, 8, 9, 0]\t\"right\"\t\"LLRLLRLLRL\"\n",
    "```"
   ]
  },
  {
   "cell_type": "code",
   "execution_count": 48,
   "id": "7b8cd3ea",
   "metadata": {
    "scrolled": false
   },
   "outputs": [
    {
     "data": {
      "text/plain": [
       "'LRLLRRLLLRR'"
      ]
     },
     "execution_count": 48,
     "metadata": {},
     "output_type": "execute_result"
    }
   ],
   "source": [
    "import numpy as np\n",
    "\n",
    "def solution(numbers, hand):\n",
    "    answer = ''\n",
    "    keyboard = np.array(list(range(1, 10)) + ['*', 0, '#']).reshape(4,3)\n",
    "    l_x, l_y = [3, 0]\n",
    "    r_x, r_y = [3, 2]\n",
    "    \n",
    "    for n in numbers:\n",
    "        if n in [1, 4, 7]:\n",
    "            answer += 'L' \n",
    "            l_x, l_y = np.where(keyboard == str(n))[0][0], np.where(keyboard == str(n))[1][0]\n",
    "\n",
    "        elif n in [3, 6, 9]:\n",
    "            answer += 'R'\n",
    "            r_x, r_y = np.where(keyboard == str(n))[0][0], np.where(keyboard == str(n))[1][0]\n",
    "\n",
    "        else:\n",
    "\n",
    "            after_x, after_y = np.where(keyboard == str(n))[0][0], np.where(keyboard == str(n))[1][0]\n",
    "            l_width = abs(after_x - l_x) + abs(after_y - l_y)\n",
    "            r_width = abs(after_x - r_x) + abs(after_y - r_y)\n",
    "\n",
    "            if l_width == r_width:\n",
    "                answer += hand[0].upper()\n",
    "                if answer[-1] == 'L' :\n",
    "                    l_x, l_y = after_x, after_y\n",
    "                elif answer[-1] == 'R':\n",
    "                    r_x, r_y = after_x, after_y\n",
    "            elif l_width < r_width:\n",
    "                answer += 'L'\n",
    "                l_x, l_y = after_x, after_y\n",
    "            elif l_width > r_width:\n",
    "                answer += 'R' \n",
    "                r_x, r_y = after_x, after_y\n",
    "\n",
    "    return answer\n",
    "\n",
    "solution([7, 0, 8, 2, 8, 3, 1, 5, 7, 6, 2], \"left\")"
   ]
  },
  {
   "cell_type": "markdown",
   "id": "ccf779f5",
   "metadata": {},
   "source": [
    "2023/01/16\n",
    "level = 1\n",
    "### <프로그래머스> 옹알이 (2)\n",
    "\n",
    "머쓱이는 태어난 지 11개월 된 조카를 돌보고 있습니다. 조카는 아직 \"aya\", \"ye\", \"woo\", \"ma\" 네 가지 발음과 네 가지 발음을 조합해서 만들 수 있는 발음밖에 하지 못하고 연속해서 같은 발음을 하는 것을 어려워합니다. 문자열 배열 babbling이 매개변수로 주어질 때, 머쓱이의 조카가 발음할 수 있는 단어의 개수를 return하도록 solution 함수를 완성해주세요.\n",
    "```\n",
    "제한사항\n",
    "1 ≤ babbling의 길이 ≤ 100\n",
    "1 ≤ babbling[i]의 길이 ≤ 30\n",
    "문자열은 알파벳 소문자로만 이루어져 있습니다.\n",
    "\n",
    "입/출력 예시\n",
    "[\"aya\", \"yee\", \"u\", \"maa\"]\t1\n",
    "[\"ayaye\", \"uuu\", \"yeye\", \"yemawoo\", \"ayaayaa\"]\t2\n",
    "```"
   ]
  },
  {
   "cell_type": "code",
   "execution_count": 85,
   "id": "ff09fb56",
   "metadata": {},
   "outputs": [
    {
     "name": "stdout",
     "output_type": "stream",
     "text": [
      "2\n",
      "1\n"
     ]
    }
   ],
   "source": [
    "import re\n",
    "\n",
    "\n",
    "def solution(babbling):\n",
    "    cnt = 0\n",
    "    words = [\"aya\", \"ye\", \"woo\", \"ma\" ]\n",
    "    for bab in babbling:\n",
    "        bab_re = bab\n",
    "        for word in words:\n",
    "            if bab.find(word) != -1 and bab.find(word + word) == -1:\n",
    "                bab_re = re.sub(word, ' ', bab_re)\n",
    "        if len(re.sub('\\s+', '', bab_re)) == 0:\n",
    "            cnt += 1\n",
    "    return cnt\n",
    "\n",
    "babbling = [\"ayaye\", \"uuu\", \"yeye\", \"yemawoo\", \"ayaayaa\"]\n",
    "print(solution(babbling))\n",
    "\n",
    "\n",
    "babbling = [\"aya\", \"yee\", \"u\", \"maa\"]\n",
    "print(solution(babbling))"
   ]
  },
  {
   "cell_type": "markdown",
   "id": "fe66e535",
   "metadata": {},
   "source": [
    "2023/01/17\n",
    "level = 2\n",
    "### <프로그래머스> 스택/큐 (STACK/QUEUE) - 기능개발 (Python)\n",
    "\n",
    "프로그래머스 팀에서는 기능 개선 작업을 수행 중입니다. 각 기능은 진도가 100%일 때 서비스에 반영할 수 있습니다. 또, 각 기능의 개발속도는 모두 다르기 때문에 뒤에 있는 기능이 앞에 있는 기능보다 먼저 개발될 수 있고, 이때 뒤에 있는 기능은 앞에 있는 기능이 배포될 때 함께 배포됩니다. 먼저 배포되어야 하는 순서대로 작업의 진도가 적힌 정수 배열 progresses와 각 작업의 개발 속도가 적힌 정수 배열 speeds가 주어질 때 각 배포마다 몇 개의 기능이 배포되는지를 return 하도록 solution 함수를 완성하세요.\n",
    "```\n",
    "제한 사항\n",
    "작업의 개수(progresses, speeds배열의 길이)는 100개 이하입니다.\n",
    "작업 진도는 100 미만의 자연수입니다.\n",
    "작업 속도는 100 이하의 자연수입니다.\n",
    "배포는 하루에 한 번만 할 수 있으며, 하루의 끝에 이루어진다고 가정합니다. 예를 들어 진도율이 95%인 작업의 개발 속도가 하루에 4%라면 배포는 2일 뒤에 이루어집니다.\n",
    "\n",
    "입출력\n",
    "```\n",
    "<img src = 'https://velog.velcdn.com/images/leejy1373/post/b9ec3413-040f-4dea-89c4-81e6b22b788c/image.png' width = 400>\n"
   ]
  },
  {
   "cell_type": "code",
   "execution_count": 26,
   "id": "6f522ae7",
   "metadata": {},
   "outputs": [
    {
     "name": "stdout",
     "output_type": "stream",
     "text": [
      "[2, 1]\n",
      "[1, 3, 2]\n"
     ]
    }
   ],
   "source": [
    "from collections import deque\n",
    "\n",
    "def solution(progress, speeds):\n",
    "    d_p = deque(progress)\n",
    "    s_p = deque(speeds)\n",
    "\n",
    "    answer = []\n",
    "    while len(d_p) >= 1:\n",
    "        cnt = 0\n",
    "        for i in range(len(d_p)):\n",
    "            d_p[i] += s_p[i]\n",
    "        while len(d_p) >= 1 and d_p[0] >= 100:\n",
    "            cnt += 1\n",
    "            d_p.popleft()\n",
    "            s_p.popleft()\n",
    "        if cnt > 0:\n",
    "            answer.append(cnt)\n",
    "\n",
    "    return answer\n",
    "\n",
    "progress = [93, 30, 55]\n",
    "speeds = [1, 30, 5]\n",
    "print(solution(progress, speeds))\n",
    "\n",
    "\n",
    "progress = [95, 90, 99, 99, 80, 99]\n",
    "speeds = [1, 1, 1, 1, 1, 1]\n",
    "print(solution(progress, speeds))"
   ]
  },
  {
   "cell_type": "markdown",
   "id": "27bdc421",
   "metadata": {},
   "source": [
    "2023/01/17\n",
    "level = 1\n",
    "### <프로그래머스> 스택/큐 문제 - 같은 숫자는 싫어\n",
    "문제 설명\n",
    "배열 arr가 주어집니다. 배열 arr의 각 원소는 숫자 0부터 9까지로 이루어져 있습니다. 이때, 배열 arr에서 연속적으로 나타나는 숫자는 하나만 남기고 전부 제거하려고 합니다. 단, 제거된 후 남은 수들을 반환할 때는 배열 arr의 원소들의 순서를 유지해야 합니다. 예를 들면,\n",
    "\n",
    "arr = [1, 1, 3, 3, 0, 1, 1] 이면 [1, 3, 0, 1] 을 return 합니다.\n",
    "arr = [4, 4, 4, 3, 3] 이면 [4, 3] 을 return 합니다.\n",
    "배열 arr에서 연속적으로 나타나는 숫자는 제거하고 남은 수들을 return 하는 solution 함수를 완성해 주세요.\n",
    "```\n",
    "제한사항\n",
    "배열 arr의 크기 : 1,000,000 이하의 자연수\n",
    "배열 arr의 원소의 크기 : 0보다 크거나 같고 9보다 작거나 같은 정수\n",
    "\n",
    "입/출력\n",
    "      arr\t   answer\n",
    "[1,1,3,3,0,1,1]\t[1,3,0,1]\n",
    "[4,4,4,3,3]\t[4,3]\n",
    "```"
   ]
  },
  {
   "cell_type": "code",
   "execution_count": 13,
   "id": "5ea9e00a",
   "metadata": {},
   "outputs": [
    {
     "data": {
      "text/plain": [
       "[1, 3, 0, 1]"
      ]
     },
     "execution_count": 13,
     "metadata": {},
     "output_type": "execute_result"
    }
   ],
   "source": [
    "from collections import deque\n",
    "\n",
    "def solution(arr):\n",
    "    answer = deque([arr[0]])\n",
    "    \n",
    "    for i in range(1, len(arr)):\n",
    "        if answer[-1] != arr[i]:\n",
    "            answer.append(arr[i])\n",
    "    return list(answer)\n",
    "\n",
    "arr = [1,1,3,3,0,1,1]\n",
    "solution(arr)"
   ]
  },
  {
   "cell_type": "code",
   "execution_count": 34,
   "id": "e8add7bc",
   "metadata": {},
   "outputs": [
    {
     "name": "stdout",
     "output_type": "stream",
     "text": [
      "[]\n",
      "1\n",
      "[1]\n",
      "3\n",
      "[3]\n",
      "0\n",
      "[0]\n",
      "1\n"
     ]
    },
    {
     "data": {
      "text/plain": [
       "[1, 3, 0, 1]"
      ]
     },
     "execution_count": 34,
     "metadata": {},
     "output_type": "execute_result"
    }
   ],
   "source": [
    "from collections import deque\n",
    "\n",
    "def solution(arr):\n",
    "    answer = []  \n",
    "    for i in range(len(arr)):\n",
    "        if answer[-1:] != [arr[i]]:\n",
    "            answer.append(arr[i])\n",
    "    return answer\n",
    "\n",
    "arr = [1,1,3,3,0,1,1]\n",
    "solution(arr)"
   ]
  },
  {
   "cell_type": "markdown",
   "id": "9af0346c",
   "metadata": {},
   "source": [
    "2023/01/17\n",
    "level = 1\n",
    "### <프로그래머스> 스택/큐 문제 - 올바른 괄호\n",
    "괄호가 바르게 짝지어졌다는 것은 '(' 문자로 열렸으면 반드시 짝지어서 ')' 문자로 닫혀야 한다는 뜻입니다. 예를 들어\n",
    "\n",
    "\"()()\" 또는 \"(())()\" 는 올바른 괄호입니다.\n",
    "\")()(\" 또는 \"(()(\" 는 올바르지 않은 괄호입니다.\n",
    "'(' 또는 ')' 로만 이루어진 문자열 s가 주어졌을 때, 문자열 s가 올바른 괄호이면 true를 return 하고, 올바르지 않은 괄호이면 false를 return 하는 solution 함수를 완성해 주세요.\n",
    "```\n",
    "제한사항\n",
    "문자열 s의 길이 : 100,000 이하의 자연수\n",
    "문자열 s는 '(' 또는 ')' 로만 이루어져 있습니다\n",
    "\n",
    "입출력\n",
    "\"()()\"\ttrue\n",
    "\"(())()\"\ttrue\n",
    "\")()(\"\tfalse\n",
    "\"(()(\"\tfalse\n",
    "```"
   ]
  },
  {
   "cell_type": "code",
   "execution_count": 42,
   "id": "e9bc594f",
   "metadata": {},
   "outputs": [
    {
     "name": "stdout",
     "output_type": "stream",
     "text": [
      "True\n"
     ]
    }
   ],
   "source": [
    "# 방법1\n",
    "def solution(s):\n",
    "    stack = []\n",
    "    for i in s:\n",
    "        if i == '(':\n",
    "            stack.append(i)\n",
    "        elif len(stack) and i == ')':\n",
    "            stack.pop()\n",
    "        else: \n",
    "            return False\n",
    "    return False if len(stack) else True\n",
    "          \n",
    "print(solution(\"(())()\" ))\n"
   ]
  },
  {
   "cell_type": "code",
   "execution_count": null,
   "id": "7d02d78d",
   "metadata": {},
   "outputs": [],
   "source": []
  },
  {
   "cell_type": "code",
   "execution_count": null,
   "id": "de028653",
   "metadata": {},
   "outputs": [],
   "source": []
  },
  {
   "cell_type": "code",
   "execution_count": null,
   "id": "1b58fe47",
   "metadata": {},
   "outputs": [],
   "source": []
  }
 ],
 "metadata": {
  "kernelspec": {
   "display_name": "Python 3 (ipykernel)",
   "language": "python",
   "name": "python3"
  },
  "language_info": {
   "codemirror_mode": {
    "name": "ipython",
    "version": 3
   },
   "file_extension": ".py",
   "mimetype": "text/x-python",
   "name": "python",
   "nbconvert_exporter": "python",
   "pygments_lexer": "ipython3",
   "version": "3.8.13"
  },
  "toc": {
   "base_numbering": 1,
   "nav_menu": {},
   "number_sections": true,
   "sideBar": true,
   "skip_h1_title": false,
   "title_cell": "Table of Contents",
   "title_sidebar": "Contents",
   "toc_cell": false,
   "toc_position": {},
   "toc_section_display": true,
   "toc_window_display": false
  }
 },
 "nbformat": 4,
 "nbformat_minor": 5
}
